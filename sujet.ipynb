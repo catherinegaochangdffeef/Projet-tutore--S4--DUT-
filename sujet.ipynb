{
 "cells": [
  {
   "cell_type": "markdown",
   "metadata": {},
   "source": [
    "# DOMIN🁏CAML"
   ]
  },
  {
   "cell_type": "markdown",
   "metadata": {},
   "source": [
    "_Projet tutoré de DUT 2 informatique (Aristide GRANGE, Université de Lorraine, 2021)_"
   ]
  },
  {
   "cell_type": "markdown",
   "metadata": {},
   "source": [
    "## Préambule"
   ]
  },
  {
   "cell_type": "markdown",
   "metadata": {},
   "source": [
    "La cellule ci-dessous importe un fichier `\"tests.ml\"` qui reprend dans l'ordre alphabétique l'intégralité des exemples de ce document, sauf les deux derniers. Il importe lui-même le fichier `\"main.ml\"`, dans lequel vous devrez écrire votre propre programme."
   ]
  },
  {
   "cell_type": "code",
   "execution_count": 1,
   "metadata": {
    "scrolled": false
   },
   "outputs": [
    {
     "name": "stdout",
     "output_type": "stream",
     "text": [
      "type domino = D of int * int\n",
      "type chain = E | S of int * string * int\n",
      "type player = H of int | B of int\n",
      "val read : (unit -> string) ref = {contents = <fun>}\n",
      "val input_valid : string -> (string -> bool) -> (string -> 'a) -> 'a = <fun>\n",
      "val flip : domino -> domino = <fun>\n",
      "val append : domino * chain * char -> chain = <fun>\n",
      "val legal_adds : domino -> chain -> chain list = <fun>\n",
      "val possible_dominoes : domino list -> chain -> domino list = <fun>\n",
      "val suppress : domino -> domino list -> domino list = <fun>\n",
      "val input_move :\n",
      "  (domino list -> domino) ->\n",
      "  (chain -> chain -> chain) ->\n",
      "  chain -> domino list -> (domino list * chain) option = <fun>\n",
      "val input_bot_move : chain -> domino list -> (domino list * chain) option =\n",
      "  <fun>\n",
      "val input_human_move : chain -> domino list -> (domino list * chain) option =\n",
      "  <fun>\n",
      "val take : domino list -> int -> domino list -> domino list * domino list =\n",
      "  <fun>\n",
      "val string_of_player : player -> string = <fun>\n",
      "val get_hand_size : int -> int = <fun>\n",
      "val char_list_of_string : string -> char list = <fun>\n",
      "val players_of_string : string -> player list = <fun>\n",
      "val make_state_list :\n",
      "  string -> domino list -> domino list * (domino list * player) list = <fun>\n",
      "val string_of_dominoes : domino list -> string = <fun>\n",
      "val move :\n",
      "  domino list ->\n",
      "  chain -> domino list -> player -> domino list * chain * domino list = <fun>\n",
      "val make_dominoes : int -> domino list = <fun>\n",
      "val string_of_chain : chain -> string = <fun>\n",
      "val string_of_state : domino list * player -> string = <fun>\n",
      "val list_shuffle : 'a list -> 'a list = <fun>\n",
      "val play : int -> string -> unit = <fun>\n",
      "val nb_tests_ok : int ref = {contents = 0}\n",
      "val nb_tests : int ref = {contents = 0}\n",
      "val test : string -> 'a Lazy.t -> 'a -> unit = <fun>\n",
      "OK ........ append: ajout d'un domino à droite d'une chaîne non vide\n",
      "OK ........ append: ajout d'un domino à gauche d'une chaîne non vide\n",
      "OK ........ append: aucun contrôle n'est fait sur la compatibilité du domino poussé\n",
      "OK ........ char_list_of_string: conversion d'une chaîne non vide en liste de caractères\n",
      "OK ........ char_list_of_string: conversion d'une vide en liste vide\n",
      "OK ........ flip: changement de présentation d'un domino non symétrique\n",
      "OK ........ flip: changement de présentation d'un domino symétrique\n",
      "OK ........ get_hand_size: deux joueurs reçoivent chacun une main de sept dominos\n",
      "OK ........ get_hand_size: quatre joueurs reçoivent chacun une main de six dominos\n",
      "OK ........ get_hand_size: trois joueurs reçoivent chacun une main de six dominos\n",
      "\tcoup forcé :         6-5\n",
      "OK ........ input_bot_move: vérifier l'effet de bord: affichage de 6-5 comme coup forcé\n",
      "\tcoup forcé :         6-5\n",
      "OK ........ input_bot_move: vérifier l'effet de bord: affichage de 6-5 comme coup forcé\n",
      "\tà placer :           4-2\n",
      "OK ........ input_bot_move: vérifier l'effet de bord: affichage de 4-2 comme coup à placer\n",
      "OK ........ input_bot_move: pas de coup possible\n",
      "\tQuel domino voulez-vous poser ? \n",
      "Réessayez!\n",
      "Réessayez!\n",
      "\tÀ quel bout ? \n",
      "Réessayez!\n",
      "OK ........ input_human_move: simulation des saisies du joueur, sélection du second domino possible, et placement à droite\n",
      "OK ........ input_move: pas de domino possible, les fonctions de sélection sont inutilisées\n",
      "\tcoup forcé :         6-5\n",
      "OK ........ input_move: sélection du seul domino possible, vérifier l'effet de bord: affichage de 6-5 comme coup forcé\n",
      "\tcoup forcé :         6-4\n",
      "OK ........ input_move: sélection du seul domino possible, forçage de 6-4, et placement à droite\n",
      "\tcoup forcé :         6-4\n",
      "OK ........ input_move: sélection du seul domino possible, forçage de 6-4, et placement à droite\n",
      "OK ........ input_move: sélection du premier domino possible\n",
      "OK ........ input_move: sélection du second domino possible\n",
      "OK ........ input_move: sélection du second domino possible, et placement à gauche\n",
      "OK ........ input_move: sélection du second domino possible, et placement à droite\n",
      "Votre âge?\n",
      "Réessayez!\n",
      "Réessayez!\n",
      "OK ........ input_valid: simulation de la saisie jusqu'à validité d'un âge réaliste\n",
      "OK ........ legal_adds: pose d'un domino initial\n",
      "OK ........ legal_adds: pose d'un double à droite\n",
      "OK ........ legal_adds: pose d'un double à gauche\n",
      "OK ........ legal_adds: pose d'un double possible aux deux bouts, une seule possibilité retenue\n",
      "OK ........ legal_adds: pose d'un non-double à droite, présentation permutée\n",
      "OK ........ legal_adds: pose d'un non-double à droite\n",
      "OK ........ legal_adds: pose d'un non-double à gauche, présentation permutée\n",
      "OK ........ legal_adds: pose d'un non-double à gauche\n",
      "OK ........ legal_adds: pose d'un non-double possible aux deux bouts, présentation permutée\n",
      "OK ........ legal_adds: pose d'un non-double possible aux deux bouts, une seule possibilité retenue\n",
      "OK ........ legal_adds: pose d'un non-double possible aux deux bouts\n",
      "OK ........ legal_adds: pose impossible\n",
      "OK ........ list_shuffle\n",
      "OK ........ make_dominoes: de (0,0) à (3,3)\n",
      "OK ........ make_state_list: création d'un jeu à deux joueurs à partir d'une liste de dominos non mélangée\n",
      "Joueur 1 (bot)   :\n",
      "\tmain : 6-5\n",
      "\tcoup forcé :         6-5\n",
      "OK ........ move: vérifier l'effet de bord: affichage de la main et de 6-5 comme coup forcé\n",
      "Joueur 2 (bot)   :\n",
      "\tmain : 6-5\n",
      "\tcoup forcé :         6-5\n",
      "OK ........ move: vérifier l'effet de bord: affichage de la main et de 6-5 comme coup forcé\n",
      "Joueur 3 (bot)   :\n",
      "\tmain : 6-3 4-2\n",
      "\tà placer :           4-2\n",
      "OK ........ move: vérifier l'effet de bord: affichage de la main et de 4-2 comme coup à placer\n",
      "Joueur 4 (bot)   :\n",
      "\tmain : 4-4\n",
      "\tAucun coup possible!\n",
      "OK ........ move: pas de coup possible, prise de deux dominos dans la pioche\n",
      "OK ........ players_of_string: construction d'une liste de 3 joueurs numérotés\n",
      "OK ........ possible_dominoes: aucun domino d'une main n'est possible à placer\n",
      "OK ........ possible_dominoes: plusieurs dominos d'une main sont possibles à plusieurs extrémités\n",
      "OK ........ possible_dominoes: plusieurs dominos d'une main sont possibles à une extrémité\n",
      "OK ........ string_of_chain: chaîne de dominos vide\n",
      "OK ........ string_of_chain: chaîne de dominos non vide\n",
      "OK ........ string_of_state\n",
      "OK ........ string_of_dominoes: noter qu'il y a un domino de plus que d'espaces séparateurs\n",
      "OK ........ string_of_dominoes: un domino\n",
      "OK ........ string_of_dominoes: zéro domino\n",
      "OK ........ string_of_player: chaîne affichée pour le joueur (bot) 2\n",
      "OK ........ string_of_player: chaîne affichée pour le joueur (humain) 2\n",
      "OK ........ suppress: essai de suppression d'un domino d'une liste dont il est absent\n",
      "OK ........ suppress: essai de suppression d'un domino d'une liste vide\n",
      "OK ........ suppress: suppression d'un domino à droite d'une liste, présentation permutée\n",
      "OK ........ suppress: suppression d'un domino à droite d'une liste\n",
      "OK ........ suppress: suppression d'un domino à gauche d'une liste, présentation permutée\n",
      "OK ........ suppress: suppression d'un domino à gauche d'une liste\n",
      "OK ........ suppress: suppression d'un domino à l'intérieur d'une liste\n",
      "OK ........ suppress: suppression d'un domino à l'intérieur d'une liste, présentation permutée\n",
      "OK ........ suppress: suppression d'un domino d'une liste réduite à ce domino, présentation permutée\n",
      "OK ........ suppress: suppression d'un domino d'une liste réduite à ce domino\n",
      "OK ........ take: passage de deux dominos du talon à la main\n",
      "OK ........ take: passage de tous les dominos du talon à la main, dépassement ignoré\n",
      "OK ........ take: passage de tous les dominos du talon à la main\n",
      "OK ........ take: passage de zéro dominos du talon à la main\n",
      "Succès: 100% de 69 tests\n",
      "- : unit = ()\n"
     ]
    }
   ],
   "source": [
    "#use \"tests.ml\""
   ]
  },
  {
   "cell_type": "markdown",
   "metadata": {},
   "source": [
    "Si vous avez installé OCaml, vous pouvez également lancer les tests en ligne de commande ainsi:\n",
    "```console\n",
    "ocaml tests.ml\n",
    "```"
   ]
  },
  {
   "cell_type": "markdown",
   "metadata": {},
   "source": [
    "Matériel de jeu\n",
    "---------------\n",
    "\n",
    "Il consiste en 28 **dominos** formés de toutes les paires possibles de 0\n",
    "à $n$ points, $n$ étant traditionnellement 6.\n",
    "Un domino a deux **moitiés** (p. ex. 1 et 2 pour le domino\n",
    "2-1). Les dominos sont **symétriques** lorsque leurs deux moitiés sont\n",
    "égales (p. ex. 6-6, le double-six). Un domino possède deux\n",
    "**présentations** distinctes (p. ex. 1-2 et 2-1) ou non (p. ex. 6-6 et\n",
    "6-6), dites **permutées**.\n",
    "\n",
    "Déroulement d'une partie\n",
    "------------------------\n",
    "\n",
    "Deux, trois ou quatre joueurs s'affrontent, chacun d'eux pouvant être\n",
    "soit un **humain**, soit un **bot**. Chacun des deux \\[resp.\n",
    "trois, quatre\\] joueurs reçoit initialement une **main** (_hand_) de 6 \\[resp.\n",
    "7\\] dominos. Le reste des dominos constitue le **talon** (_stack_).\n",
    "\n",
    "![*Une chaîne de dominos compatibles.*](https://www.dropbox.com/s/zu9s65wu6jto2l3/compatibles.png?raw=1)\n",
    "\n",
    "Le premier joueur pose le domino de son choix. Ensuite, à tour de rôle,\n",
    "chaque joueur pose un domino **compatible** à l'un des deux **bouts** de\n",
    "la **chaîne** des dominos déjà posés. S'il n'a aucun domino à poser, il\n",
    "en **pioche** deux (si possible) et **passe son tour**.\n",
    "\n",
    "Le premier à avoir posé tous ses dominos gagne. Il y a match nul lorsque\n",
    "la pioche est vide et que tout le monde doit passer son tour.\n",
    "\n",
    "Idée de l'implantation\n",
    "----------------------\n",
    "\n",
    "### Types construits\n",
    "\n",
    "Les dominos seront simplement représentés par un type produit formé de deux entiers.\n",
    "\n",
    "```ocaml\n",
    "type domino = D of int * int\n",
    "```\n",
    "\n",
    "Voici 🁏 et 🀱. Notez que l'ordre des membres du couple, ou **présentation** n'importe pas."
   ]
  },
  {
   "cell_type": "code",
   "execution_count": 2,
   "metadata": {},
   "outputs": [
    {
     "data": {
      "text/plain": [
       "- : (domino * domino) list = [(D (2, 4), D (0, 0))]\n"
      ]
     },
     "execution_count": 2,
     "metadata": {},
     "output_type": "execute_result"
    }
   ],
   "source": [
    "[D (2, 4), D (0, 0)]"
   ]
  },
  {
   "cell_type": "markdown",
   "metadata": {},
   "source": [
    "Le talon et les différentes mains seront gérés avec des listes comme ci-dessus."
   ]
  },
  {
   "cell_type": "markdown",
   "metadata": {},
   "source": [
    "La chaîne sera un type somme représentant:\n",
    "- soit la chaîne vide initiale;\n",
    "- soit le produit du chiffre de l'extrémité gauche (_west_), d'une chaîne de caractères prête à afficher, et enfin du chiffre de l'extrémité droite (_east).\n",
    "\n",
    "```ocaml\n",
    "type chain = E | S of int * string * int\n",
    "```\n",
    "\n",
    "Ainsi, la chaîne de dominos 🁌🁠🂋🁔🁣🀵 s'écrira:"
   ]
  },
  {
   "cell_type": "code",
   "execution_count": 3,
   "metadata": {},
   "outputs": [
    {
     "data": {
      "text/plain": [
       "- : chain = S (3, \"3-6 6-5 5-5 5-0 0-0 0-4\", 4)\n"
      ]
     },
     "execution_count": 3,
     "metadata": {},
     "output_type": "execute_result"
    }
   ],
   "source": [
    "S (3, \"3-6 6-5 5-5 5-0 0-0 0-4\", 4)"
   ]
  },
  {
   "cell_type": "markdown",
   "metadata": {},
   "source": [
    "Enfin, un joueur sera représenté par sa catégorie (soit `H` pour humain, soit `B` pour bot) suivie de son numéro.\n",
    "\n",
    "```ocaml\n",
    "type player = H of int | B of int\n",
    "```"
   ]
  },
  {
   "cell_type": "markdown",
   "metadata": {},
   "source": [
    "Voici le troisième joueur:"
   ]
  },
  {
   "cell_type": "code",
   "execution_count": 4,
   "metadata": {},
   "outputs": [
    {
     "data": {
      "text/plain": [
       "- : player = B 3\n"
      ]
     },
     "execution_count": 4,
     "metadata": {},
     "output_type": "execute_result"
    }
   ],
   "source": [
    "B 3"
   ]
  },
  {
   "cell_type": "markdown",
   "metadata": {},
   "source": [
    "### Mode opératoire\n",
    "\n",
    "Le ou les bots joueront au hasard, dans la limite des coups **légaux**.\n",
    "\n",
    "Le gros du travail consistera justement à déterminer à tout moment\n",
    "l'ensemble de ces coups, ce qui permettra également de détecter les\n",
    "situations suivantes:\n",
    "\n",
    "-   le joueur a le choix entre plusieurs coups, et il faut lui demander\n",
    "    d'exprimer ce choix;\n",
    "\n",
    "-   le joueur n'a qu'un seul coup jouable, et il faut le jouer pour lui;\n",
    "\n",
    "-   le joueur doit passer son tour, il faut le faire piocher;\n",
    "\n",
    "-   le jeu est bloqué, il faut terminer sur un match nul."
   ]
  },
  {
   "cell_type": "markdown",
   "metadata": {},
   "source": [
    "## Gestion des coups légaux"
   ]
  },
  {
   "cell_type": "markdown",
   "metadata": {},
   "source": [
    "### `flip`\n",
    "La fonction\n",
    "```ocaml\n",
    "val flip : domino -> domino = <fun>\n",
    "```\n",
    "permute un domino donné."
   ]
  },
  {
   "cell_type": "code",
   "execution_count": 5,
   "metadata": {},
   "outputs": [
    {
     "data": {
      "text/plain": [
       "- : domino = D (3, 2)\n"
      ]
     },
     "execution_count": 5,
     "metadata": {},
     "output_type": "execute_result"
    }
   ],
   "source": [
    "flip (D (2,3))"
   ]
  },
  {
   "cell_type": "code",
   "execution_count": 6,
   "metadata": {},
   "outputs": [
    {
     "data": {
      "text/plain": [
       "- : domino = D (3, 3)\n"
      ]
     },
     "execution_count": 6,
     "metadata": {},
     "output_type": "execute_result"
    }
   ],
   "source": [
    "flip (D (3,3))"
   ]
  },
  {
   "cell_type": "markdown",
   "metadata": {},
   "source": [
    "### `append`\n",
    "La fonction\n",
    "```ocaml\n",
    "val append : domino * chain * char -> chain = <fun>\n",
    "```\n",
    "ajoute un domino donné à une extrémité donnée d'une chaîne donnée, sans effectuer aucun test de compatibilité sur la chaîne, le domino ou sa présentation."
   ]
  },
  {
   "cell_type": "code",
   "execution_count": 7,
   "metadata": {},
   "outputs": [
    {
     "data": {
      "text/plain": [
       "- : chain = S (5, \"5-1 1-2 4-3\", 3)\n"
      ]
     },
     "execution_count": 7,
     "metadata": {},
     "output_type": "execute_result"
    }
   ],
   "source": [
    "append (D (5, 1), S (1, \"1-2 4-3\", 3), '<')"
   ]
  },
  {
   "cell_type": "code",
   "execution_count": 8,
   "metadata": {},
   "outputs": [
    {
     "data": {
      "text/plain": [
       "- : chain = S (1, \"1-2 4-3 3-5\", 5)\n"
      ]
     },
     "execution_count": 8,
     "metadata": {},
     "output_type": "execute_result"
    }
   ],
   "source": [
    "append (D (3, 5), S (1, \"1-2 4-3\", 3), '>')"
   ]
  },
  {
   "cell_type": "code",
   "execution_count": 9,
   "metadata": {},
   "outputs": [
    {
     "data": {
      "text/plain": [
       "- : chain = S (5, \"5-2 1-2 4-3\", 3)\n"
      ]
     },
     "execution_count": 9,
     "metadata": {},
     "output_type": "execute_result"
    }
   ],
   "source": [
    "append (D (5, 2), S (1, \"1-2 4-3\", 3), '<')"
   ]
  },
  {
   "cell_type": "markdown",
   "metadata": {},
   "source": [
    "### `legal_adds`\n",
    "La fonction\n",
    "```ocaml\n",
    "val legal_adds : domino -> chain -> chain list = <fun>\n",
    "```\n",
    "renvoie les chaînes de dominos résultant de toutes les poses légales et **distinctes** d'un domino\n",
    "`d` donné au bout d'une chaîne de dominos `cd` donnée. Référez-vous au fichier `dominos_tests.ml`\n",
    "fourni pour le descriptif de chacun des cas illustrés ci-dessous (cet avis est général et ne sera\n",
    "pas répété pour chaque fonction)."
   ]
  },
  {
   "cell_type": "code",
   "execution_count": 10,
   "metadata": {},
   "outputs": [
    {
     "data": {
      "text/plain": [
       "- : chain list = [S (5, \"5-6\", 6)]\n"
      ]
     },
     "execution_count": 10,
     "metadata": {},
     "output_type": "execute_result"
    }
   ],
   "source": [
    "legal_adds (D (5, 6)) E"
   ]
  },
  {
   "cell_type": "code",
   "execution_count": 11,
   "metadata": {},
   "outputs": [
    {
     "data": {
      "text/plain": [
       "- : chain list = []\n"
      ]
     },
     "execution_count": 11,
     "metadata": {},
     "output_type": "execute_result"
    }
   ],
   "source": [
    "legal_adds (D (5, 6)) (S (1, \"1-5 6-2\", 2))"
   ]
  },
  {
   "cell_type": "code",
   "execution_count": 12,
   "metadata": {},
   "outputs": [
    {
     "data": {
      "text/plain": [
       "- : chain list = [S (1, \"1-5 5-5 5-3 3-2\", 2)]\n"
      ]
     },
     "execution_count": 12,
     "metadata": {},
     "output_type": "execute_result"
    }
   ],
   "source": [
    "legal_adds (D (1, 5)) (S (5, \"5-5 5-3 3-2\", 2))"
   ]
  },
  {
   "cell_type": "code",
   "execution_count": 13,
   "metadata": {},
   "outputs": [
    {
     "data": {
      "text/plain": [
       "- : chain list = [S (1, \"1-5 5-5 5-3 3-2\", 2)]\n"
      ]
     },
     "execution_count": 13,
     "metadata": {},
     "output_type": "execute_result"
    }
   ],
   "source": [
    "legal_adds (D (5, 1)) (S (5, \"5-5 5-3 3-2\", 2))"
   ]
  },
  {
   "cell_type": "code",
   "execution_count": 14,
   "metadata": {},
   "outputs": [
    {
     "data": {
      "text/plain": [
       "- : chain list = [S (5, \"5-5 5-3 3-2 2-4\", 4)]\n"
      ]
     },
     "execution_count": 14,
     "metadata": {},
     "output_type": "execute_result"
    }
   ],
   "source": [
    "legal_adds (D (2, 4)) (S (5, \"5-5 5-3 3-2\", 2))"
   ]
  },
  {
   "cell_type": "code",
   "execution_count": 15,
   "metadata": {},
   "outputs": [
    {
     "data": {
      "text/plain": [
       "- : chain list = [S (5, \"5-5 5-3 3-2 2-4\", 4)]\n"
      ]
     },
     "execution_count": 15,
     "metadata": {},
     "output_type": "execute_result"
    }
   ],
   "source": [
    "legal_adds (D (4, 2)) (S (5, \"5-5 5-3 3-2\", 2))"
   ]
  },
  {
   "cell_type": "code",
   "execution_count": 16,
   "metadata": {},
   "outputs": [
    {
     "data": {
      "text/plain": [
       "- : chain list = [S (5, \"5-6 6-1 1-5\", 5); S (6, \"6-1 1-5 5-6\", 6)]\n"
      ]
     },
     "execution_count": 16,
     "metadata": {},
     "output_type": "execute_result"
    }
   ],
   "source": [
    "legal_adds (D (5, 6)) (S (6, \"6-1 1-5\", 5))"
   ]
  },
  {
   "cell_type": "code",
   "execution_count": 17,
   "metadata": {},
   "outputs": [
    {
     "data": {
      "text/plain": [
       "- : chain list = [S (5, \"5-6 6-1 1-5\", 5); S (6, \"6-1 1-5 5-6\", 6)]\n"
      ]
     },
     "execution_count": 17,
     "metadata": {},
     "output_type": "execute_result"
    }
   ],
   "source": [
    "legal_adds (D (6, 5)) (S (6, \"6-1 1-5\", 5))"
   ]
  },
  {
   "cell_type": "code",
   "execution_count": 18,
   "metadata": {},
   "outputs": [
    {
     "data": {
      "text/plain": [
       "- : chain list = [S (6, \"6-6 6-0 0-1\", 1)]\n"
      ]
     },
     "execution_count": 18,
     "metadata": {},
     "output_type": "execute_result"
    }
   ],
   "source": [
    "legal_adds (D (6, 6)) (S (6, \"6-0 0-1\", 1))"
   ]
  },
  {
   "cell_type": "code",
   "execution_count": 19,
   "metadata": {},
   "outputs": [
    {
     "data": {
      "text/plain": [
       "- : chain list = [S (1, \"1-0 0-6 6-6\", 6)]\n"
      ]
     },
     "execution_count": 19,
     "metadata": {},
     "output_type": "execute_result"
    }
   ],
   "source": [
    "legal_adds (D (6, 6)) (S (1, \"1-0 0-6\", 6))"
   ]
  },
  {
   "cell_type": "code",
   "execution_count": 20,
   "metadata": {},
   "outputs": [
    {
     "data": {
      "text/plain": [
       "- : chain list = [S (5, \"5-6 6-1 1-6\", 6)]\n"
      ]
     },
     "execution_count": 20,
     "metadata": {},
     "output_type": "execute_result"
    }
   ],
   "source": [
    "legal_adds (D (5, 6)) (S (6, \"6-1 1-6\", 6))"
   ]
  },
  {
   "cell_type": "code",
   "execution_count": 21,
   "metadata": {},
   "outputs": [
    {
     "data": {
      "text/plain": [
       "- : chain list = [S (6, \"6-6 6-1 1-6\", 6)]\n"
      ]
     },
     "execution_count": 21,
     "metadata": {},
     "output_type": "execute_result"
    }
   ],
   "source": [
    "legal_adds (D (6, 6)) (S (6, \"6-1 1-6\", 6))"
   ]
  },
  {
   "cell_type": "markdown",
   "metadata": {},
   "source": [
    "L'évaluation de votre solution tiendra largement compte de sa concision\n",
    "et de sa clarté: ne vous jetez pas tête baissée dans la programmation,\n",
    "et réfléchissez soigneusement à la manière de regrouper les cas!"
   ]
  },
  {
   "cell_type": "markdown",
   "metadata": {},
   "source": [
    "### `possible_dominoes`\n",
    "La fonction\n",
    "```ocaml\n",
    "val possible_dominoes : domino list -> chain -> domino list = <fun>\n",
    "```\n",
    "renvoie la liste de chacun des dominos d'une main donnée qui est plaçable au bout d'une chaîne donnée."
   ]
  },
  {
   "cell_type": "code",
   "execution_count": 22,
   "metadata": {},
   "outputs": [
    {
     "data": {
      "text/plain": [
       "- : domino list = [D (3, 2); D (3, 3); D (6, 3)]\n"
      ]
     },
     "execution_count": 22,
     "metadata": {},
     "output_type": "execute_result"
    }
   ],
   "source": [
    "possible_dominoes [D (3,2); D (5,4); D (3,3); D (6,3)] (S (3, \"3-4 4-2 2-1 0-1\", 1)) "
   ]
  },
  {
   "cell_type": "code",
   "execution_count": 23,
   "metadata": {},
   "outputs": [
    {
     "data": {
      "text/plain": [
       "- : domino list = [D (3, 2); D (6, 3)]\n"
      ]
     },
     "execution_count": 23,
     "metadata": {},
     "output_type": "execute_result"
    }
   ],
   "source": [
    "possible_dominoes [D (3,2); D (5,4); D (3,3); D (6,3)] (S (2, \"2-4 4-3 3-1 0-1\", 6)) "
   ]
  },
  {
   "cell_type": "code",
   "execution_count": 24,
   "metadata": {},
   "outputs": [
    {
     "data": {
      "text/plain": [
       "- : domino list = []\n"
      ]
     },
     "execution_count": 24,
     "metadata": {},
     "output_type": "execute_result"
    }
   ],
   "source": [
    "possible_dominoes [D (3,3); D (5,4); D (3,3); D (5,3)] (S (2, \"2-4 4-3 3-1 0-1\", 6)) "
   ]
  },
  {
   "cell_type": "markdown",
   "metadata": {},
   "source": [
    "## Sélection du coup à jouer et calcul du résultat\n",
    "Un coup peut être joué soit par un humain, soit par un bot.\n",
    "\n",
    "Si c'est un humain, il faut éventuellement lui demander ce qu'il veut jouer : quel domino parmi ceux qui sont possibles, et éventuellement à quel bout de chaîne le placer. Le résultat est un couple formé de la nouvelle main et de la nouvelle chaîne.\n",
    "\n",
    "Il peut arriver que le joueur n'ait pas le choix: si un seul coup est possible, celui-ci est forcé; si aucun coup n'est possible, `None` est renvoyé pour déléguer la pioche à la fonction appelante.\n",
    "\n",
    "Pour les coups joués par un bot, la même logique s'applique, à cette différence que les choix sont tirés au hasard plutôt que demandés."
   ]
  },
  {
   "cell_type": "markdown",
   "metadata": {},
   "source": [
    "### `input_valid`"
   ]
  },
  {
   "cell_type": "markdown",
   "metadata": {},
   "source": [
    "#### Utilisation interactive avec la commande `ocaml`"
   ]
  },
  {
   "cell_type": "markdown",
   "metadata": {},
   "source": [
    "Pour lire sur l'entrée standard, la fonction normale Ocaml est `read_line`. Elle marche avec la commande `ocaml` si vous l'avez intallée (pour lancer le REPL : `ocaml`, et pour lancer le programme : `ocaml main.ml`). La fonction de saisie jusqu'à validité est alors définie par le code ci-dessous, qui vous est gracieusement fourni: copiez-collez-le au début de votre fichier `\"main.ml\"`.\n",
    "\n",
    "```ocaml\n",
    "let read = ref read_line;\n",
    "let rec input_valid prompt is_valid cast =\n",
    "  let rec urs () =\n",
    "    let s = !read () in\n",
    "    if is_valid s then cast s\n",
    "    else\n",
    "      let () = print_endline \"Réessayez!\" in\n",
    "      urs ()\n",
    "  in\n",
    "  print_endline prompt; urs ()\n",
    "```\n",
    "\n",
    "Cette fonction complètement générique prend en entrée un message d'invite, une fonction testant la validité de l'entrée (selon un critère quelconque) et une autre appliquant une conversion quelconque à une entrée valide avant de la renvoyer."
   ]
  },
  {
   "cell_type": "markdown",
   "metadata": {},
   "source": [
    "#### Utilisation interactive sous Jupyter Notebook"
   ]
  },
  {
   "cell_type": "markdown",
   "metadata": {},
   "source": [
    "Cependant, sous Jupyter Notebook ou [TryOcamlPro](http://try.ocamlpro.com), `read_line` lève une erreur. J'ai ouvert une [issue GitHub](https://github.com/akabe/ocaml-jupyter/issues/162), et l'auteur du kernel Ocaml pour Jupyter Notebook  a eu la gentillesse de me proposer un contournement avec la fonction `Jupyter_comm.Stdin.read_line`. Pour ce faire, commencez par charger les bibliothèques nécessaires (des messages sur fond rouge devraient apparaître la première fois):"
   ]
  },
  {
   "cell_type": "code",
   "execution_count": 25,
   "metadata": {},
   "outputs": [
    {
     "name": "stdout",
     "output_type": "stream",
     "text": [
      "- : unit = ()\n",
      "Findlib has been successfully loaded. Additional directives:\n",
      "  #require \"package\";;      to load a package\n",
      "  #list;;                   to list the available packages\n",
      "  #camlp4o;;                to load camlp4 (standard syntax)\n",
      "  #camlp4r;;                to load camlp4 (revised syntax)\n",
      "  #predicates \"p,q,...\";;   to set these predicates\n",
      "  Topfind.reset();;         to force that packages will be reloaded\n",
      "  #thread;;                 to enable threads\n",
      "\n",
      "- : unit = ()\n"
     ]
    },
    {
     "name": "stderr",
     "output_type": "stream",
     "text": [
      "/Users/aristide/.opam/default/lib/result: added to search path\n",
      "/Users/aristide/.opam/default/lib/result/result.cma: loaded\n",
      "/Users/aristide/.opam/default/lib/ppx_deriving/runtime: added to search path\n",
      "/Users/aristide/.opam/default/lib/ppx_deriving/runtime/ppx_deriving_runtime.cma: loaded\n",
      "/Users/aristide/.opam/default/lib/ppx_deriving_yojson/runtime: added to search path\n",
      "/Users/aristide/.opam/default/lib/ppx_deriving_yojson/runtime/ppx_deriving_yojson_runtime.cma: loaded\n",
      "/Users/aristide/.opam/default/lib/ocaml/unix.cma: loaded\n",
      "/Users/aristide/.opam/default/lib/bytes: added to search path\n",
      "/Users/aristide/.opam/default/lib/uuidm: added to search path\n",
      "/Users/aristide/.opam/default/lib/uuidm/uuidm.cma: loaded\n",
      "/Users/aristide/.opam/default/lib/easy-format: added to search path\n",
      "/Users/aristide/.opam/default/lib/easy-format/easy_format.cma: loaded\n",
      "/Users/aristide/.opam/default/lib/biniou: added to search path\n",
      "/Users/aristide/.opam/default/lib/biniou/biniou.cma: loaded\n",
      "/Users/aristide/.opam/default/lib/yojson: added to search path\n",
      "/Users/aristide/.opam/default/lib/yojson/yojson.cma: loaded\n",
      "/Users/aristide/.opam/default/lib/jupyter: added to search path\n",
      "/Users/aristide/.opam/default/lib/jupyter/jupyter.cma: loaded\n",
      "/Users/aristide/.opam/default/lib/base64: added to search path\n",
      "/Users/aristide/.opam/default/lib/base64/base64.cma: loaded\n",
      "/Users/aristide/.opam/default/lib/ocaml/compiler-libs: added to search path\n",
      "/Users/aristide/.opam/default/lib/ocaml/compiler-libs/ocamlcommon.cma: loaded\n",
      "/Users/aristide/.opam/default/lib/jupyter/notebook: added to search path\n",
      "/Users/aristide/.opam/default/lib/jupyter/notebook/jupyter_notebook.cma: loaded\n",
      "/Users/aristide/.opam/default/lib/jupyter/comm: added to search path\n",
      "/Users/aristide/.opam/default/lib/jupyter/comm/jupyter_comm.cma: loaded\n"
     ]
    }
   ],
   "source": [
    "#use \"topfind\";;\n",
    "#require \"jupyter.comm\";;"
   ]
  },
  {
   "cell_type": "markdown",
   "metadata": {},
   "source": [
    "Dans le bout de code que je vous ai donné plus haut, je suis subrepticement sorti du paradigme fonctionnel en définissant un alias **mutable** de la fonction normale `read_line` grâce au mot-clé `ref`. On peut alors surcharger cette fonction en changeant sa valeur (avec l'opérateur d'affectation `:=`) :"
   ]
  },
  {
   "cell_type": "code",
   "execution_count": 26,
   "metadata": {},
   "outputs": [
    {
     "data": {
      "text/plain": [
       "- : unit = ()\n"
      ]
     },
     "execution_count": 26,
     "metadata": {},
     "output_type": "execute_result"
    }
   ],
   "source": [
    "read := (function () -> Jupyter_comm.Stdin.read_line \"\")"
   ]
  },
  {
   "cell_type": "markdown",
   "metadata": {},
   "source": [
    "Voici par exemple la saisie interactive jusqu'à validité d'un âge, avec rendu de celui-ci augmenté de 20 %:"
   ]
  },
  {
   "cell_type": "code",
   "execution_count": 27,
   "metadata": {},
   "outputs": [
    {
     "name": "stdout",
     "output_type": "stream",
     "text": [
      "Votre âge?\n",
      "-10\n",
      "Réessayez!\n",
      "500\n",
      "Réessayez!\n",
      "10\n"
     ]
    },
    {
     "data": {
      "text/plain": [
       "- : int = 12\n"
      ]
     },
     "execution_count": 27,
     "metadata": {},
     "output_type": "execute_result"
    }
   ],
   "source": [
    "input_valid\n",
    "    \"Votre âge?\"\n",
    "    (function x -> let n = int_of_string x in n >= 0 && n < 120)\n",
    "    (function x -> int_of_float (1.2 *. float_of_string x))"
   ]
  },
  {
   "cell_type": "markdown",
   "metadata": {},
   "source": [
    "#### Utilisation non interactive lors des tests"
   ]
  },
  {
   "cell_type": "markdown",
   "metadata": {},
   "source": [
    "Quand vous lancez les tests fournis, vous n'avez certainement pas envie de saisir les mêmes entrées à chaque fois. Nous enregistrerons donc les chaînes désirées dans un flux, qui les délivrera ensuite une par une, simulant ainsi les entrées successives de l'utilisateur. Cela se fait toujours en changeant la valeur de `read`, cette fois de la manière suivante:"
   ]
  },
  {
   "cell_type": "code",
   "execution_count": 28,
   "metadata": {},
   "outputs": [
    {
     "name": "stdout",
     "output_type": "stream",
     "text": [
      "Votre âge?\n",
      "Réessayez!\n",
      "Réessayez!\n"
     ]
    },
    {
     "data": {
      "text/plain": [
       "- : int = 12\n"
      ]
     },
     "execution_count": 28,
     "metadata": {},
     "output_type": "execute_result"
    }
   ],
   "source": [
    "read := (let x = Stream.of_list [\"-10\"; \"500\"; \"10\"] in function () -> Stream.next x);\n",
    "\n",
    "input_valid\n",
    "    \"Votre âge?\"\n",
    "    (function x -> let n = int_of_string x in n >= 0 && n < 120)\n",
    "    (function x -> 1.2 *. float_of_string x |> int_of_float)"
   ]
  },
  {
   "cell_type": "markdown",
   "metadata": {},
   "source": [
    "Les âge « saisis » sont les mêmes, mais ils n'apparaissent plus dans l'affichage, et c'est normal.\n",
    "\n",
    "Notez que j'en ai profité pour écrire une variante du code précédent avec l'opérateur `|>`, utilisé ici pour présenter l'expression `int_of_float (1.2 *. float_of_string x)` dans un ordre plus naturel. N'hésitez pas à imiter ce style lorsqu'il peut clarifier une composition de fonctions."
   ]
  },
  {
   "cell_type": "markdown",
   "metadata": {},
   "source": [
    "### `suppress`"
   ]
  },
  {
   "cell_type": "markdown",
   "metadata": {},
   "source": [
    "La fonction\n",
    "```ocaml\n",
    "val suppress : domino -> domino list -> domino list = <fun>\n",
    "```\n",
    "est utilisée pour rendre une copie mise à jour d'une main donnée lorsqu'on en retire un domino donné."
   ]
  },
  {
   "cell_type": "code",
   "execution_count": 29,
   "metadata": {
    "cell_style": "center",
    "scrolled": true
   },
   "outputs": [
    {
     "data": {
      "text/plain": [
       "- : domino list = []\n"
      ]
     },
     "execution_count": 29,
     "metadata": {},
     "output_type": "execute_result"
    }
   ],
   "source": [
    "suppress (D (2,3)) []"
   ]
  },
  {
   "cell_type": "code",
   "execution_count": 30,
   "metadata": {
    "cell_style": "center"
   },
   "outputs": [
    {
     "data": {
      "text/plain": [
       "- : domino list = [D (1, 2); D (6, 5)]\n"
      ]
     },
     "execution_count": 30,
     "metadata": {},
     "output_type": "execute_result"
    }
   ],
   "source": [
    "suppress (D (2,3)) [D (1, 2); D (6, 5)]"
   ]
  },
  {
   "cell_type": "code",
   "execution_count": 31,
   "metadata": {
    "cell_style": "center",
    "scrolled": true
   },
   "outputs": [
    {
     "data": {
      "text/plain": [
       "- : domino list = []\n"
      ]
     },
     "execution_count": 31,
     "metadata": {},
     "output_type": "execute_result"
    }
   ],
   "source": [
    "suppress (D (4,5)) [D (4,5)]"
   ]
  },
  {
   "cell_type": "code",
   "execution_count": 32,
   "metadata": {
    "cell_style": "center"
   },
   "outputs": [
    {
     "data": {
      "text/plain": [
       "- : domino list = []\n"
      ]
     },
     "execution_count": 32,
     "metadata": {},
     "output_type": "execute_result"
    }
   ],
   "source": [
    "suppress (D (4,5)) [D (5,4)]"
   ]
  },
  {
   "cell_type": "code",
   "execution_count": 33,
   "metadata": {
    "cell_style": "center"
   },
   "outputs": [
    {
     "data": {
      "text/plain": [
       "- : domino list = [D (3, 2)]\n"
      ]
     },
     "execution_count": 33,
     "metadata": {},
     "output_type": "execute_result"
    }
   ],
   "source": [
    "suppress (D (4,5)) [D (4,5); D (3,2)]"
   ]
  },
  {
   "cell_type": "code",
   "execution_count": 34,
   "metadata": {
    "cell_style": "center"
   },
   "outputs": [
    {
     "data": {
      "text/plain": [
       "- : domino list = [D (3, 2)]\n"
      ]
     },
     "execution_count": 34,
     "metadata": {},
     "output_type": "execute_result"
    }
   ],
   "source": [
    "suppress (D (4,5)) [D (5,4); D (3,2)]"
   ]
  },
  {
   "cell_type": "code",
   "execution_count": 35,
   "metadata": {
    "cell_style": "center"
   },
   "outputs": [
    {
     "data": {
      "text/plain": [
       "- : domino list = [D (3, 2)]\n"
      ]
     },
     "execution_count": 35,
     "metadata": {},
     "output_type": "execute_result"
    }
   ],
   "source": [
    "suppress (D (4,5)) [D (3,2); D (4,5)]"
   ]
  },
  {
   "cell_type": "code",
   "execution_count": 36,
   "metadata": {
    "cell_style": "center"
   },
   "outputs": [
    {
     "data": {
      "text/plain": [
       "- : domino list = [D (3, 2)]\n"
      ]
     },
     "execution_count": 36,
     "metadata": {},
     "output_type": "execute_result"
    }
   ],
   "source": [
    "suppress (D (4,5)) [D (3,2); D (5,4)]"
   ]
  },
  {
   "cell_type": "code",
   "execution_count": 37,
   "metadata": {
    "cell_style": "center"
   },
   "outputs": [
    {
     "data": {
      "text/plain": [
       "- : domino list = [D (3, 2); D (6, 3)]\n"
      ]
     },
     "execution_count": 37,
     "metadata": {},
     "output_type": "execute_result"
    }
   ],
   "source": [
    "suppress (D (4,5)) [D (3,2); D (5,4); D (6, 3)]"
   ]
  },
  {
   "cell_type": "code",
   "execution_count": 38,
   "metadata": {
    "cell_style": "center"
   },
   "outputs": [
    {
     "data": {
      "text/plain": [
       "- : domino list = [D (3, 2); D (6, 3)]\n"
      ]
     },
     "execution_count": 38,
     "metadata": {},
     "output_type": "execute_result"
    }
   ],
   "source": [
    "suppress (D (5,4)) [D (3,2); D (5,4); D (6, 3)]"
   ]
  },
  {
   "cell_type": "markdown",
   "metadata": {},
   "source": [
    "### `input_move`"
   ]
  },
  {
   "cell_type": "markdown",
   "metadata": {},
   "source": [
    "La fonction\n",
    "```ocaml\n",
    "val input_move :\n",
    "  (domino list -> domino) ->\n",
    "  (chain -> chain -> chain) ->\n",
    "  chain -> domino list -> (domino list * chain) option = <fun>\n",
    "```\n",
    "est une abstraction de l'acquisition d'un coup, prévue pour être utilisée aussi bien pour un joueur humain que pour un bot. La spécialisation se fait grâce aux deux premiers arguments.\n",
    "\n",
    "Le premier argument est une fonction que j'appelle `select_domino` et qui, étant donné la main d'un joueur, renvoie le domino possible sélectionné par celui-ci (soit par saisie, soit par tirage). Elle ne sera pas appelée par `move` lorsqu'aucun domino de la main n'est possible, ou qu'un seul domino est possible.\n",
    "\n",
    "Le deuxième argument est une fonction que j'appelle `select_end` et qui, étant donné deux chaînes de domino (résultant en fait de l'ajout du domino sélectionné à l'une ou l'autre extrémité de la chaîne en cours), en renvoie une (soit par saisie d'une direction `'>'` ou `'<'`, soit par tirage aléatoire).\n",
    "\n",
    "Le troisième argument est la chaîne en cours.\n",
    "\n",
    "Le quatrième argument est la main du joueur.\n",
    "\n",
    "Le résultat est un couple formé de la nouvelle main et de la nouvelle chaîne si un coup est possible, ou rien sinon. Le talon n'intervenant pas à ce niveau, dans ce dernier cas la pioche sera déléguée à la fonction appelante.\n",
    "\n",
    "Dans les exemples ci-dessous, pour simplifier, les deux fonctions de sélection passées en paramètre sont totalement déterministes. Notez l'affichage par effet de bord quand le coup est forcé."
   ]
  },
  {
   "cell_type": "code",
   "execution_count": 39,
   "metadata": {},
   "outputs": [
    {
     "data": {
      "text/plain": [
       "- : (domino list * chain) option = None\n"
      ]
     },
     "execution_count": 39,
     "metadata": {},
     "output_type": "execute_result"
    }
   ],
   "source": [
    "input_move\n",
    "    (function l -> failwith \"should not occur\")\n",
    "    (fun dc1 dc2 -> failwith \"should not occur\")\n",
    "    (S (6, \"6-1 1-4\", 4))\n",
    "    [D (1, 2); D (3, 5); D (5, 3)]"
   ]
  },
  {
   "cell_type": "code",
   "execution_count": 40,
   "metadata": {},
   "outputs": [
    {
     "name": "stdout",
     "output_type": "stream",
     "text": [
      "\tcoup forcé :         6-5\n"
     ]
    },
    {
     "data": {
      "text/plain": [
       "- : (domino list * chain) option =\n",
       "Some ([D (1, 2); D (5, 3)], S (5, \"5-6 6-1 1-4\", 4))\n"
      ]
     },
     "execution_count": 40,
     "metadata": {},
     "output_type": "execute_result"
    }
   ],
   "source": [
    "input_move\n",
    "    (function l -> List.nth l 0)\n",
    "    (fun dc1 dc2 -> failwith \"should not occur\")\n",
    "    (S (6, \"6-1 1-4\", 4))\n",
    "    [D (1, 2); D (6, 5); D (5, 3)]"
   ]
  },
  {
   "cell_type": "code",
   "execution_count": 41,
   "metadata": {},
   "outputs": [
    {
     "name": "stdout",
     "output_type": "stream",
     "text": [
      "\tcoup forcé :         6-4\n"
     ]
    },
    {
     "data": {
      "text/plain": [
       "- : (domino list * chain) option =\n",
       "Some ([D (1, 2); D (5, 3)], S (6, \"6-1 1-4 4-6\", 6))\n"
      ]
     },
     "execution_count": 41,
     "metadata": {},
     "output_type": "execute_result"
    }
   ],
   "source": [
    "input_move\n",
    "    (function l -> List.nth l 0)\n",
    "    (fun _ dc2 -> dc2)\n",
    "    (S (6, \"6-1 1-4\", 4))\n",
    "    [D (1, 2); D (6, 4); D (5, 3)]"
   ]
  },
  {
   "cell_type": "code",
   "execution_count": 42,
   "metadata": {},
   "outputs": [
    {
     "name": "stdout",
     "output_type": "stream",
     "text": [
      "\tcoup forcé :         6-4\n"
     ]
    },
    {
     "data": {
      "text/plain": [
       "- : (domino list * chain) option =\n",
       "Some ([D (1, 2); D (5, 3)], S (4, \"4-6 6-1 1-4\", 4))\n"
      ]
     },
     "execution_count": 42,
     "metadata": {},
     "output_type": "execute_result"
    }
   ],
   "source": [
    "input_move\n",
    "    (function l -> List.nth l 0)\n",
    "    (fun dc1 _ -> dc1)\n",
    "    (S (6, \"6-1 1-4\", 4))\n",
    "    [D (1, 2); D (6, 4); D (5, 3)]"
   ]
  },
  {
   "cell_type": "code",
   "execution_count": 43,
   "metadata": {},
   "outputs": [
    {
     "data": {
      "text/plain": [
       "- : (domino list * chain) option =\n",
       "Some ([D (1, 2); D (4, 3)], S (5, \"5-6 6-1 1-4\", 4))\n"
      ]
     },
     "execution_count": 43,
     "metadata": {},
     "output_type": "execute_result"
    }
   ],
   "source": [
    "input_move\n",
    "    (function l -> List.nth l 0)\n",
    "    (fun dc1 dc2 -> failwith \"should not occur\")\n",
    "    (S (6, \"6-1 1-4\", 4))\n",
    "    [D (1, 2); D (6, 5); D (4, 3)]"
   ]
  },
  {
   "cell_type": "code",
   "execution_count": 44,
   "metadata": {},
   "outputs": [
    {
     "data": {
      "text/plain": [
       "- : (domino list * chain) option =\n",
       "Some ([D (1, 2); D (6, 5)], S (6, \"6-1 1-4 4-3\", 3))\n"
      ]
     },
     "execution_count": 44,
     "metadata": {},
     "output_type": "execute_result"
    }
   ],
   "source": [
    "input_move\n",
    "    (function l -> List.nth l 1)\n",
    "    (fun dc1 dc2 -> failwith \"should not occur\")\n",
    "    (S (6, \"6-1 1-4\", 4))\n",
    "    [D (1, 2); D (6, 5); D (4, 3)]"
   ]
  },
  {
   "cell_type": "code",
   "execution_count": 45,
   "metadata": {},
   "outputs": [
    {
     "data": {
      "text/plain": [
       "- : (domino list * chain) option =\n",
       "Some ([D (1, 2); D (6, 5)], S (4, \"4-6 6-1 1-4\", 4))\n"
      ]
     },
     "execution_count": 45,
     "metadata": {},
     "output_type": "execute_result"
    }
   ],
   "source": [
    "input_move\n",
    "    (function l -> List.nth l 1)\n",
    "    (fun dc1 _ -> dc1)\n",
    "    (S (6, \"6-1 1-4\", 4))\n",
    "    [D (1, 2); D (6, 5); D (6, 4)]"
   ]
  },
  {
   "cell_type": "code",
   "execution_count": 46,
   "metadata": {},
   "outputs": [
    {
     "data": {
      "text/plain": [
       "- : (domino list * chain) option =\n",
       "Some ([D (1, 2); D (6, 5)], S (6, \"6-1 1-4 4-6\", 6))\n"
      ]
     },
     "execution_count": 46,
     "metadata": {},
     "output_type": "execute_result"
    }
   ],
   "source": [
    "input_move\n",
    "    (function l -> List.nth l 1)\n",
    "    (fun _ dc2 -> dc2)\n",
    "    (S (6, \"6-1 1-4\", 4))\n",
    "    [D (1, 2); D (6, 5); D (6, 4)]"
   ]
  },
  {
   "cell_type": "markdown",
   "metadata": {},
   "source": [
    "### `input_bot_move`"
   ]
  },
  {
   "cell_type": "markdown",
   "metadata": {},
   "source": [
    "La fonction\n",
    "```ocaml\n",
    "val input_bot_move : chain -> domino list -> (domino list * chain) option = <fun>\n",
    "```\n",
    "est la spécialisation « bot » de `input_move`, avec la même sémantique pour les deux derniers arguments et le résultat. Pour la tester de façon déterministe, nous avons besoin de fixer au préalable le germe du générateur pseudo-aléatoire:"
   ]
  },
  {
   "cell_type": "code",
   "execution_count": 47,
   "metadata": {},
   "outputs": [
    {
     "data": {
      "text/plain": [
       "- : unit = ()\n"
      ]
     },
     "execution_count": 47,
     "metadata": {},
     "output_type": "execute_result"
    }
   ],
   "source": [
    "Random.init 42"
   ]
  },
  {
   "cell_type": "markdown",
   "metadata": {},
   "source": [
    "Notez dans les évaluations ci-dessous que `input_bot_move` ajoute une couche d'affichage à `input_move` en affichant le cas échéant le domino à placer de façon à faciliter le suivi du jeu par un lecteur humain."
   ]
  },
  {
   "cell_type": "code",
   "execution_count": 48,
   "metadata": {},
   "outputs": [
    {
     "name": "stdout",
     "output_type": "stream",
     "text": [
      "\tcoup forcé :         6-5\n"
     ]
    },
    {
     "data": {
      "text/plain": [
       "- : (domino list * chain) option = Some ([], S (5, \"5-6 6-1 1-5\", 5))\n"
      ]
     },
     "execution_count": 48,
     "metadata": {},
     "output_type": "execute_result"
    }
   ],
   "source": [
    "input_bot_move (S (6, \"6-1 1-5\", 5)) [D (6, 5)]"
   ]
  },
  {
   "cell_type": "code",
   "execution_count": 49,
   "metadata": {},
   "outputs": [
    {
     "name": "stdout",
     "output_type": "stream",
     "text": [
      "\tcoup forcé :         6-5\n"
     ]
    },
    {
     "data": {
      "text/plain": [
       "- : (domino list * chain) option = Some ([], S (5, \"5-6 6-1 1-4\", 4))\n"
      ]
     },
     "execution_count": 49,
     "metadata": {},
     "output_type": "execute_result"
    }
   ],
   "source": [
    "input_bot_move (S (6, \"6-1 1-4\", 4)) [D (6, 5)]"
   ]
  },
  {
   "cell_type": "code",
   "execution_count": 50,
   "metadata": {},
   "outputs": [
    {
     "name": "stdout",
     "output_type": "stream",
     "text": [
      "\tà placer :           4-2\n"
     ]
    },
    {
     "data": {
      "text/plain": [
       "- : (domino list * chain) option = Some ([D (6, 3)], S (6, \"6-1 1-4 4-2\", 2))\n"
      ]
     },
     "execution_count": 50,
     "metadata": {},
     "output_type": "execute_result"
    }
   ],
   "source": [
    "input_bot_move (S (6, \"6-1 1-4\", 4)) [D (6, 3); D (4, 2)]"
   ]
  },
  {
   "cell_type": "code",
   "execution_count": 51,
   "metadata": {},
   "outputs": [
    {
     "data": {
      "text/plain": [
       "- : (domino list * chain) option = None\n"
      ]
     },
     "execution_count": 51,
     "metadata": {},
     "output_type": "execute_result"
    }
   ],
   "source": [
    "input_bot_move (S (6, \"6-1 1-5\", 5)) [D (4, 4)]"
   ]
  },
  {
   "cell_type": "markdown",
   "metadata": {},
   "source": [
    "### `input_human_move`"
   ]
  },
  {
   "cell_type": "markdown",
   "metadata": {},
   "source": [
    "La fonction\n",
    "```ocaml\n",
    "val input_human_move : chain -> domino list -> (domino list * chain) option = <fun>\n",
    "```\n",
    "est la spécialisation « human » de `input_move`, avec la même sémantique pour les deux derniers arguments et le résultat. Pour la tester de façon déterministe, nous avons besoin de fixer au préalable la suite des saisies du joueur:"
   ]
  },
  {
   "cell_type": "code",
   "execution_count": 52,
   "metadata": {},
   "outputs": [
    {
     "name": "stdout",
     "output_type": "stream",
     "text": [
      "\tQuel domino voulez-vous poser ? \n",
      "Réessayez!\n",
      "Réessayez!\n",
      "\tÀ quel bout ? \n",
      "Réessayez!\n"
     ]
    },
    {
     "data": {
      "text/plain": [
       "- : (domino list * chain) option =\n",
       "Some ([D (1, 2); D (6, 5)], S (6, \"6-1 1-4 4-6\", 6))\n"
      ]
     },
     "execution_count": 52,
     "metadata": {},
     "output_type": "execute_result"
    }
   ],
   "source": [
    "read := (let x = Stream.of_list [\"356\"; \"12\"; \"64\"; \"foobar\"; \">\"] in function () -> Stream.next x);\n",
    "\n",
    "input_human_move\n",
    "    (S (6, \"6-1 1-4\", 4))\n",
    "    [D (1, 2); D (6, 5); D (6, 4)]"
   ]
  },
  {
   "cell_type": "markdown",
   "metadata": {},
   "source": [
    "## Gestion complète d'un coup, avec affichages et pioche éventuelle"
   ]
  },
  {
   "cell_type": "markdown",
   "metadata": {},
   "source": [
    "### `string_of_player`\n",
    "La fonction\n",
    "```ocaml\n",
    "val string_of_player : player -> string = <fun>\n",
    "```\n",
    "calcule simplement la chaîne de caractères à afficher pour désigner un joueur."
   ]
  },
  {
   "cell_type": "code",
   "execution_count": 53,
   "metadata": {},
   "outputs": [
    {
     "data": {
      "text/plain": [
       "- : string = \"Joueur 2 (humain)\"\n"
      ]
     },
     "execution_count": 53,
     "metadata": {},
     "output_type": "execute_result"
    }
   ],
   "source": [
    "string_of_player (H 2)"
   ]
  },
  {
   "cell_type": "code",
   "execution_count": 54,
   "metadata": {},
   "outputs": [
    {
     "data": {
      "text/plain": [
       "- : string = \"Joueur 2 (bot)   \"\n"
      ]
     },
     "execution_count": 54,
     "metadata": {},
     "output_type": "execute_result"
    }
   ],
   "source": [
    "string_of_player (B 2)"
   ]
  },
  {
   "cell_type": "markdown",
   "metadata": {},
   "source": [
    "### `string_of_dominoes`"
   ]
  },
  {
   "cell_type": "markdown",
   "metadata": {},
   "source": [
    "La fonction\n",
    "```ocaml\n",
    "val string_of_dominoes : domino list -> string = <fun>\n",
    "```\n",
    "calcule simplement la chaîne de caractères représentant une main de dominos."
   ]
  },
  {
   "cell_type": "code",
   "execution_count": 55,
   "metadata": {},
   "outputs": [
    {
     "data": {
      "text/plain": [
       "- : string = \"\"\n"
      ]
     },
     "execution_count": 55,
     "metadata": {},
     "output_type": "execute_result"
    }
   ],
   "source": [
    "string_of_dominoes []"
   ]
  },
  {
   "cell_type": "code",
   "execution_count": 56,
   "metadata": {},
   "outputs": [
    {
     "data": {
      "text/plain": [
       "- : string = \"5-6\"\n"
      ]
     },
     "execution_count": 56,
     "metadata": {},
     "output_type": "execute_result"
    }
   ],
   "source": [
    "string_of_dominoes [D (5, 6)]"
   ]
  },
  {
   "cell_type": "code",
   "execution_count": 57,
   "metadata": {},
   "outputs": [
    {
     "data": {
      "text/plain": [
       "- : string = \"5-6 4-4 3-3 1-1 2-2\"\n"
      ]
     },
     "execution_count": 57,
     "metadata": {},
     "output_type": "execute_result"
    }
   ],
   "source": [
    "string_of_dominoes [D (5, 6); D (4, 4); D (3, 3); D (1, 1); D (2, 2)]"
   ]
  },
  {
   "cell_type": "markdown",
   "metadata": {},
   "source": [
    "### `take`\n",
    "La fonction\n",
    "```ocaml\n",
    "val take : domino list -> int -> domino list -> domino list * domino list = <fun>\n",
    "```\n",
    "transfère un nombre donné de dominos d'une liste donnée (talon) à une autre (main)."
   ]
  },
  {
   "cell_type": "code",
   "execution_count": 58,
   "metadata": {
    "cell_style": "center"
   },
   "outputs": [
    {
     "data": {
      "text/plain": [
       "- : domino list * domino list =\n",
       "([D (1, 1); D (2, 2)], [D (3, 3); D (4, 4); D (5, 6)])\n"
      ]
     },
     "execution_count": 58,
     "metadata": {},
     "output_type": "execute_result"
    }
   ],
   "source": [
    "take [D (1, 1); D (2, 2)] 0 [D (3, 3); D (4, 4); D (5, 6)]"
   ]
  },
  {
   "cell_type": "code",
   "execution_count": 59,
   "metadata": {
    "cell_style": "center"
   },
   "outputs": [
    {
     "data": {
      "text/plain": [
       "- : domino list * domino list =\n",
       "([D (4, 4); D (3, 3); D (1, 1); D (2, 2)], [D (5, 6)])\n"
      ]
     },
     "execution_count": 59,
     "metadata": {},
     "output_type": "execute_result"
    }
   ],
   "source": [
    "take [D (1, 1); D (2, 2)] 2 [D (3, 3); D (4, 4); D (5, 6)]"
   ]
  },
  {
   "cell_type": "code",
   "execution_count": 60,
   "metadata": {
    "cell_style": "center"
   },
   "outputs": [
    {
     "data": {
      "text/plain": [
       "- : domino list * domino list =\n",
       "([D (5, 6); D (4, 4); D (3, 3); D (1, 1); D (2, 2)], [])\n"
      ]
     },
     "execution_count": 60,
     "metadata": {},
     "output_type": "execute_result"
    }
   ],
   "source": [
    "take [D (1, 1); D (2, 2)] 3 [D (3, 3); D (4, 4); D (5, 6)]"
   ]
  },
  {
   "cell_type": "code",
   "execution_count": 61,
   "metadata": {
    "cell_style": "center"
   },
   "outputs": [
    {
     "data": {
      "text/plain": [
       "- : domino list * domino list =\n",
       "([D (5, 6); D (4, 4); D (3, 3); D (1, 1); D (2, 2)], [])\n"
      ]
     },
     "execution_count": 61,
     "metadata": {},
     "output_type": "execute_result"
    }
   ],
   "source": [
    "take [D (1, 1); D (2, 2)] 42 [D (3, 3); D (4, 4); D (5, 6)]"
   ]
  },
  {
   "cell_type": "markdown",
   "metadata": {},
   "source": [
    "### `move`\n",
    "La fonction\n",
    "```ocaml\n",
    "val move :\n",
    "  domino list ->\n",
    "  chain ->\n",
    "  domino list ->\n",
    "  player ->\n",
    "  domino list * chain * domino list = <fun>\n",
    "```\n",
    "prend un talon, une chaîne, une main et un joueur, et renvoie le talon, la chaîne et la main résultant d'un nouveau coup, non sans produire en effet de bord tous les affichages associés. Nous la testons ci-dessous sans perte de généralité sur un coup joué par un bot."
   ]
  },
  {
   "cell_type": "code",
   "execution_count": 62,
   "metadata": {},
   "outputs": [
    {
     "data": {
      "text/plain": [
       "- : unit = ()\n"
      ]
     },
     "execution_count": 62,
     "metadata": {},
     "output_type": "execute_result"
    }
   ],
   "source": [
    "Random.init 42"
   ]
  },
  {
   "cell_type": "code",
   "execution_count": 63,
   "metadata": {},
   "outputs": [
    {
     "name": "stdout",
     "output_type": "stream",
     "text": [
      "Joueur 1 (bot)   :\n",
      "\tmain : 6-5\n",
      "\tcoup forcé :         6-5\n"
     ]
    },
    {
     "data": {
      "text/plain": [
       "- : domino list * chain * domino list =\n",
       "([D (1, 1); D (1, 2); D (1, 3)], S (5, \"5-6 6-1 1-5\", 5), [])\n"
      ]
     },
     "execution_count": 63,
     "metadata": {},
     "output_type": "execute_result"
    }
   ],
   "source": [
    "move [D (1, 1); D (1, 2); D (1, 3)] (S (6, \"6-1 1-5\", 5)) [D (6, 5)] (B 1)"
   ]
  },
  {
   "cell_type": "code",
   "execution_count": 64,
   "metadata": {},
   "outputs": [
    {
     "name": "stdout",
     "output_type": "stream",
     "text": [
      "Joueur 2 (bot)   :\n",
      "\tmain : 6-5\n",
      "\tcoup forcé :         6-5\n"
     ]
    },
    {
     "data": {
      "text/plain": [
       "- : domino list * chain * domino list =\n",
       "([D (1, 1); D (1, 2); D (1, 3)], S (5, \"5-6 6-1 1-4\", 4), [])\n"
      ]
     },
     "execution_count": 64,
     "metadata": {},
     "output_type": "execute_result"
    }
   ],
   "source": [
    "move [D (1, 1); D (1, 2); D (1, 3)] (S (6, \"6-1 1-4\", 4)) [D (6, 5)] (B 2)"
   ]
  },
  {
   "cell_type": "code",
   "execution_count": 65,
   "metadata": {},
   "outputs": [
    {
     "name": "stdout",
     "output_type": "stream",
     "text": [
      "Joueur 3 (bot)   :\n",
      "\tmain : 6-3 4-2\n",
      "\tà placer :           4-2\n"
     ]
    },
    {
     "data": {
      "text/plain": [
       "- : domino list * chain * domino list =\n",
       "([D (1, 1); D (1, 2); D (1, 3)], S (6, \"6-1 1-4 4-2\", 2), [D (6, 3)])\n"
      ]
     },
     "execution_count": 65,
     "metadata": {},
     "output_type": "execute_result"
    }
   ],
   "source": [
    "move [D (1, 1); D (1, 2); D (1, 3)] (S (6, \"6-1 1-4\", 4)) [D (6, 3); D (4, 2)] (B 3)"
   ]
  },
  {
   "cell_type": "code",
   "execution_count": 66,
   "metadata": {},
   "outputs": [
    {
     "name": "stdout",
     "output_type": "stream",
     "text": [
      "Joueur 4 (bot)   :\n",
      "\tmain : 4-4\n",
      "\tAucun coup possible!\n"
     ]
    },
    {
     "data": {
      "text/plain": [
       "- : domino list * chain * domino list =\n",
       "([D (1, 3)], S (6, \"6-1 1-5\", 5), [D (1, 2); D (1, 1); D (4, 4)])\n"
      ]
     },
     "execution_count": 66,
     "metadata": {},
     "output_type": "execute_result"
    }
   ],
   "source": [
    "move [D (1, 1); D (1, 2); D (1, 3)] (S (6, \"6-1 1-5\", 5)) [D (4, 4)] (B 4)"
   ]
  },
  {
   "cell_type": "markdown",
   "metadata": {},
   "source": [
    "## Mise en place d'une partie"
   ]
  },
  {
   "cell_type": "markdown",
   "metadata": {},
   "source": [
    "### `make_dominoes`\n",
    "La fonction\n",
    "```ocaml\n",
    "val make_dominoes : int -> domino list = <fun>\n",
    "```\n",
    "génère sous forme de liste l'ensemble des dominos de plus haut chiffre donné. Par exemple, pour une liste de plus haut domino `D (3, 3)`:"
   ]
  },
  {
   "cell_type": "code",
   "execution_count": 67,
   "metadata": {},
   "outputs": [
    {
     "data": {
      "text/plain": [
       "- : domino list =\n",
       "[D (3, 3); D (3, 2); D (3, 1); D (3, 0); D (2, 2); D (2, 1); D (2, 0);\n",
       " D (1, 1); D (1, 0); D (0, 0)]\n"
      ]
     },
     "execution_count": 67,
     "metadata": {},
     "output_type": "execute_result"
    }
   ],
   "source": [
    "make_dominoes 3"
   ]
  },
  {
   "cell_type": "markdown",
   "metadata": {},
   "source": [
    "### `char_list_of_string`\n",
    "La fonction\n",
    "```ocaml\n",
    "val char_list_of_string : string -> char list = <fun>\n",
    "```\n",
    "renvoie la liste des caractères d'une chaîne de caractères donnée."
   ]
  },
  {
   "cell_type": "code",
   "execution_count": 68,
   "metadata": {},
   "outputs": [
    {
     "data": {
      "text/plain": [
       "- : char list = []\n"
      ]
     },
     "execution_count": 68,
     "metadata": {},
     "output_type": "execute_result"
    }
   ],
   "source": [
    "char_list_of_string \"\""
   ]
  },
  {
   "cell_type": "code",
   "execution_count": 69,
   "metadata": {},
   "outputs": [
    {
     "data": {
      "text/plain": [
       "- : char list = ['f'; 'o'; 'o'; 'b'; 'a'; 'r']\n"
      ]
     },
     "execution_count": 69,
     "metadata": {},
     "output_type": "execute_result"
    }
   ],
   "source": [
    "char_list_of_string \"foobar\""
   ]
  },
  {
   "cell_type": "markdown",
   "metadata": {},
   "source": [
    "### `players_of_string`\n",
    "```ocaml\n",
    "val players_of_string : string -> player list = <fun>\n",
    "```\n",
    "convertit une chaîne formée de caractères `B` et `H` en une chaîne de valeurs de type `player` numérotées séquentiellement."
   ]
  },
  {
   "cell_type": "code",
   "execution_count": 70,
   "metadata": {},
   "outputs": [
    {
     "data": {
      "text/plain": [
       "- : player list = [H 1; B 2; B 3]\n"
      ]
     },
     "execution_count": 70,
     "metadata": {},
     "output_type": "execute_result"
    }
   ],
   "source": [
    "players_of_string \"HBB\""
   ]
  },
  {
   "cell_type": "markdown",
   "metadata": {},
   "source": [
    "### `get_hand_size`\n",
    "La fonction\n",
    "```ocaml\n",
    "val get_hand_size : int -> int = <fun>\n",
    "```\n",
    "renvoie le nombre de dominos dans la main initiale d'un joueur en fonction du nombre de ceux-ci. Elle doit échouer avec le message `\"Entre 2 et 4 joueurs, please!\"` pour tout autre entier que 2, 3 et 4."
   ]
  },
  {
   "cell_type": "code",
   "execution_count": 71,
   "metadata": {},
   "outputs": [
    {
     "data": {
      "text/plain": [
       "- : int = 7\n"
      ]
     },
     "execution_count": 71,
     "metadata": {},
     "output_type": "execute_result"
    }
   ],
   "source": [
    "get_hand_size 2"
   ]
  },
  {
   "cell_type": "code",
   "execution_count": 72,
   "metadata": {},
   "outputs": [
    {
     "data": {
      "text/plain": [
       "- : int = 6\n"
      ]
     },
     "execution_count": 72,
     "metadata": {},
     "output_type": "execute_result"
    }
   ],
   "source": [
    "get_hand_size 3"
   ]
  },
  {
   "cell_type": "code",
   "execution_count": 73,
   "metadata": {},
   "outputs": [
    {
     "data": {
      "text/plain": [
       "- : int = 6\n"
      ]
     },
     "execution_count": 73,
     "metadata": {},
     "output_type": "execute_result"
    }
   ],
   "source": [
    "get_hand_size 4"
   ]
  },
  {
   "cell_type": "markdown",
   "metadata": {},
   "source": [
    "### `make_state_list`\n",
    "La fonction\n",
    "```ocaml\n",
    "val make_state_list : string -> domino list -> domino list * (domino list * player) list = <fun>\n",
    "```\n",
    "prend une chaîne formée de caractères B et H, et la liste des dominos du jeu (résultat de `make_dominoes`), et construit le talon initial, ainsi que la liste des **états** initiaux, un état étant le couple formé par un joueur et sa main. On voit dans l'exemple ci-dessous que pour un jeu de 15 dominos, les 7 premiers sont distribués au joueur 1, les 7 suivants au joueur 2, et qu'il ne reste plus que `D (0, 0)` dans le talon."
   ]
  },
  {
   "cell_type": "code",
   "execution_count": 74,
   "metadata": {},
   "outputs": [
    {
     "data": {
      "text/plain": [
       "- : domino list * (domino list * player) list =\n",
       "([D (0, 0)],\n",
       " [([D (3, 2); D (3, 3); D (4, 0); D (4, 1); D (4, 2); D (4, 3); D (4, 4)],\n",
       "   B 1);\n",
       "  ([D (1, 0); D (1, 1); D (2, 0); D (2, 1); D (2, 2); D (3, 0); D (3, 1)],\n",
       "   H 2)])\n"
      ]
     },
     "execution_count": 74,
     "metadata": {},
     "output_type": "execute_result"
    }
   ],
   "source": [
    "make_state_list\n",
    "    \"BH\"\n",
    "    [D (4, 4); D (4, 3); D (4, 2); D (4, 1); D (4, 0); D (3, 3); D (3, 2); D (3, 1); D (3, 0); D (2, 2); D (2, 1); D (2, 0); D (1, 1); D (1, 0); D (0, 0)]"
   ]
  },
  {
   "cell_type": "markdown",
   "metadata": {},
   "source": [
    "## Jeu proprement dit"
   ]
  },
  {
   "cell_type": "markdown",
   "metadata": {},
   "source": [
    "### `string_of_chain`\n",
    "La fonction\n",
    "```ocaml\n",
    "val string_of_chain : chain -> string = <fun>\n",
    "```\n",
    "extrait simplement le deuxième membre du triplet d'une chaîne de dominos donnée, ou à défaut renvoie la chaîne de caractères vide."
   ]
  },
  {
   "cell_type": "code",
   "execution_count": 75,
   "metadata": {},
   "outputs": [
    {
     "data": {
      "text/plain": [
       "- : string = \"\"\n"
      ]
     },
     "execution_count": 75,
     "metadata": {},
     "output_type": "execute_result"
    }
   ],
   "source": [
    "string_of_chain E"
   ]
  },
  {
   "cell_type": "code",
   "execution_count": 76,
   "metadata": {},
   "outputs": [
    {
     "data": {
      "text/plain": [
       "- : string = \"4-5 5-6 6-6 6-2\"\n"
      ]
     },
     "execution_count": 76,
     "metadata": {},
     "output_type": "execute_result"
    }
   ],
   "source": [
    "string_of_chain (S (4, \"4-5 5-6 6-6 6-2\", 2))"
   ]
  },
  {
   "cell_type": "markdown",
   "metadata": {},
   "source": [
    "### `string_of_state`\n",
    "La fonction\n",
    "```ocaml\n",
    "val string_of_state : domino list * player -> string = <fun>\n",
    "```\n",
    "calcule la chaîne de caractères représentant l'état d'un joueur."
   ]
  },
  {
   "cell_type": "code",
   "execution_count": 77,
   "metadata": {},
   "outputs": [
    {
     "data": {
      "text/plain": [
       "- : string = \"Joueur 1 (humain):\\t1-2 6-5 4-3\"\n"
      ]
     },
     "execution_count": 77,
     "metadata": {},
     "output_type": "execute_result"
    }
   ],
   "source": [
    "string_of_state ([D (1, 2); D (6, 5); D (4, 3)], H 1)"
   ]
  },
  {
   "cell_type": "markdown",
   "metadata": {},
   "source": [
    "### `list_shuffle`\n",
    "La fonction\n",
    "```ocaml\n",
    "val list_shuffle : 'a list -> 'a list = <fun>\n",
    "```\n",
    "renvoie une copie mélangée d'une liste donnée. C'est l'exercice 10.4 de votre fascicule, auquel je vous renvoie pour toute précision."
   ]
  },
  {
   "cell_type": "code",
   "execution_count": 78,
   "metadata": {},
   "outputs": [
    {
     "data": {
      "text/plain": [
       "- : unit = ()\n"
      ]
     },
     "execution_count": 78,
     "metadata": {},
     "output_type": "execute_result"
    }
   ],
   "source": [
    "Random.init 42"
   ]
  },
  {
   "cell_type": "code",
   "execution_count": 79,
   "metadata": {},
   "outputs": [
    {
     "data": {
      "text/plain": [
       "- : int list = [3; 5; 4; 9; 8; 6; 2; 7; 1]\n"
      ]
     },
     "execution_count": 79,
     "metadata": {},
     "output_type": "execute_result"
    }
   ],
   "source": [
    "list_shuffle [1; 2; 3; 4; 5; 6; 7; 8; 9]"
   ]
  },
  {
   "cell_type": "markdown",
   "metadata": {},
   "source": [
    "### `play`\n",
    "La fonction\n",
    "```ocaml\n",
    "val play : int -> string -> unit = <fun>\n",
    "```\n",
    "contrôle le déroulement d'une partie à partir d'une chaîne de caractères `'B'` et `'H'` et du plus haut chiffre d'un domino. Elle mélange ces dominos, les distribue aux joueurs, affiche la configuration initiale, déroule le jeu et affiche à la fin quel joueur a gagné ou, le cas échéant, `\"Match nul!\"`.\n",
    "\n",
    "**Remarque.** La fonction renvoyant `()`, son résultat n'est pas testé dans `test.ml`. Il vous appartient de vérifier que vous obtenez les mêmes effets de bord que dans les deux exemples de parties ci-dessous."
   ]
  },
  {
   "cell_type": "code",
   "execution_count": 80,
   "metadata": {},
   "outputs": [
    {
     "name": "stdout",
     "output_type": "stream",
     "text": [
      "Joueur 1 (humain):\t0-0 2-1 3-0 4-1 2-2 4-0 4-2\n",
      "Joueur 2 (bot)   :\t4-4 3-2 4-3 3-3 2-0 3-1 1-1\n",
      "Joueur 1 (humain):\n",
      "\tmain : 0-0 2-1 3-0 4-1 2-2 4-0 4-2\n",
      "\tQuel domino voulez-vous poser ? \n",
      "\tchaîne :             0-0\n",
      "Joueur 2 (bot)   :\n",
      "\tmain : 4-4 3-2 4-3 3-3 2-0 3-1 1-1\n",
      "\tcoup forcé :         2-0\n",
      "\tchaîne :             2-0 0-0\n",
      "Joueur 1 (humain):\n",
      "\tmain : 2-1 3-0 4-1 2-2 4-0 4-2\n",
      "\tQuel domino voulez-vous poser ? \n",
      "\tchaîne :             2-2 2-0 0-0\n",
      "Joueur 2 (bot)   :\n",
      "\tmain : 4-4 3-2 4-3 3-3 3-1 1-1\n",
      "\tcoup forcé :         3-2\n",
      "\tchaîne :             3-2 2-2 2-0 0-0\n",
      "Joueur 1 (humain):\n",
      "\tmain : 2-1 3-0 4-1 4-0 4-2\n",
      "\tQuel domino voulez-vous poser ? \n",
      "\tÀ quel bout ? \n",
      "\tchaîne :             3-2 2-2 2-0 0-0 0-3\n",
      "Joueur 2 (bot)   :\n",
      "\tmain : 4-4 4-3 3-3 3-1 1-1\n",
      "\tà placer :           3-3\n",
      "\tchaîne :             3-3 3-2 2-2 2-0 0-0 0-3\n",
      "Joueur 1 (humain):\n",
      "\tmain : 2-1 4-1 4-0 4-2\n",
      "\tAucun coup possible!\n",
      "\tchaîne :             3-3 3-2 2-2 2-0 0-0 0-3\n",
      "Joueur 2 (bot)   :\n",
      "\tmain : 4-4 4-3 3-1 1-1\n",
      "\tà placer :           4-3\n",
      "\tchaîne :             4-3 3-3 3-2 2-2 2-0 0-0 0-3\n",
      "Joueur 1 (humain):\n",
      "\tmain : 1-0 2-1 4-1 4-0 4-2\n",
      "\tQuel domino voulez-vous poser ? \n",
      "\tchaîne :             0-4 4-3 3-3 3-2 2-2 2-0 0-0 0-3\n",
      "Joueur 2 (bot)   :\n",
      "\tmain : 4-4 3-1 1-1\n",
      "\tcoup forcé :         3-1\n",
      "\tchaîne :             0-4 4-3 3-3 3-2 2-2 2-0 0-0 0-3 3-1\n",
      "Joueur 1 (humain):\n",
      "\tmain : 1-0 2-1 4-1 4-2\n",
      "\tQuel domino voulez-vous poser ? \n",
      "\tÀ quel bout ? \n",
      "\tchaîne :             0-4 4-3 3-3 3-2 2-2 2-0 0-0 0-3 3-1 1-0\n",
      "Joueur 2 (bot)   :\n",
      "\tmain : 4-4 1-1\n",
      "\tAucun coup possible!\n",
      "\tchaîne :             0-4 4-3 3-3 3-2 2-2 2-0 0-0 0-3 3-1 1-0\n",
      "Joueur 1 (humain):\n",
      "\tmain : 2-1 4-1 4-2\n",
      "\tAucun coup possible!\n",
      "\tchaîne :             0-4 4-3 3-3 3-2 2-2 2-0 0-0 0-3 3-1 1-0\n",
      "Match nul!\n"
     ]
    },
    {
     "data": {
      "text/plain": [
       "- : unit = ()\n"
      ]
     },
     "execution_count": 80,
     "metadata": {},
     "output_type": "execute_result"
    }
   ],
   "source": [
    "read := (let x = Stream.of_list [\"00\"; \"22\"; \"30\"; \">\"; \"40\"; \"10\"; \">\"] in function () -> Stream.next x);\n",
    "Random.init 42;\n",
    "play 4 \"HB\""
   ]
  },
  {
   "cell_type": "code",
   "execution_count": 81,
   "metadata": {
    "scrolled": false
   },
   "outputs": [
    {
     "name": "stdout",
     "output_type": "stream",
     "text": [
      "Joueur 1 (bot)   :\t5-4 6-3 5-3 0-0 6-2 6-4\n",
      "Joueur 2 (bot)   :\t5-0 4-3 4-1 3-3 3-0 5-2\n",
      "Joueur 3 (bot)   :\t4-0 6-1 1-0 2-0 5-1 5-5\n",
      "Joueur 1 (bot)   :\n",
      "\tmain : 5-4 6-3 5-3 0-0 6-2 6-4\n",
      "\tà placer :           5-3\n",
      "\tchaîne :             5-3\n",
      "Joueur 2 (bot)   :\n",
      "\tmain : 5-0 4-3 4-1 3-3 3-0 5-2\n",
      "\tà placer :           5-2\n",
      "\tchaîne :             2-5 5-3\n",
      "Joueur 3 (bot)   :\n",
      "\tmain : 4-0 6-1 1-0 2-0 5-1 5-5\n",
      "\tcoup forcé :         2-0\n",
      "\tchaîne :             0-2 2-5 5-3\n",
      "Joueur 1 (bot)   :\n",
      "\tmain : 5-4 6-3 0-0 6-2 6-4\n",
      "\tà placer :           6-3\n",
      "\tchaîne :             0-2 2-5 5-3 3-6\n",
      "Joueur 2 (bot)   :\n",
      "\tmain : 5-0 4-3 4-1 3-3 3-0\n",
      "\tà placer :           3-0\n",
      "\tchaîne :             3-0 0-2 2-5 5-3 3-6\n",
      "Joueur 3 (bot)   :\n",
      "\tmain : 4-0 6-1 1-0 5-1 5-5\n",
      "\tcoup forcé :         6-1\n",
      "\tchaîne :             3-0 0-2 2-5 5-3 3-6 6-1\n",
      "Joueur 1 (bot)   :\n",
      "\tmain : 5-4 0-0 6-2 6-4\n",
      "\tAucun coup possible!\n",
      "\tchaîne :             3-0 0-2 2-5 5-3 3-6 6-1\n",
      "Joueur 2 (bot)   :\n",
      "\tmain : 5-0 4-3 4-1 3-3\n",
      "\tà placer :           4-3\n",
      "\tchaîne :             4-3 3-0 0-2 2-5 5-3 3-6 6-1\n",
      "Joueur 3 (bot)   :\n",
      "\tmain : 4-0 1-0 5-1 5-5\n",
      "\tà placer :           1-0\n",
      "\tchaîne :             4-3 3-0 0-2 2-5 5-3 3-6 6-1 1-0\n",
      "Joueur 1 (bot)   :\n",
      "\tmain : 3-2 2-1 5-4 0-0 6-2 6-4\n",
      "\tà placer :           6-4\n",
      "\tchaîne :             6-4 4-3 3-0 0-2 2-5 5-3 3-6 6-1 1-0\n",
      "Joueur 2 (bot)   :\n",
      "\tmain : 5-0 4-1 3-3\n",
      "\tcoup forcé :         5-0\n",
      "\tchaîne :             6-4 4-3 3-0 0-2 2-5 5-3 3-6 6-1 1-0 0-5\n",
      "Joueur 3 (bot)   :\n",
      "\tmain : 4-0 5-1 5-5\n",
      "\tà placer :           5-1\n",
      "\tchaîne :             6-4 4-3 3-0 0-2 2-5 5-3 3-6 6-1 1-0 0-5 5-1\n",
      "Joueur 1 (bot)   :\n",
      "\tmain : 3-2 2-1 5-4 0-0 6-2\n",
      "\tà placer :           6-2\n",
      "\tchaîne :             2-6 6-4 4-3 3-0 0-2 2-5 5-3 3-6 6-1 1-0 0-5 5-1\n",
      "Joueur 2 (bot)   :\n",
      "\tmain : 4-1 3-3\n",
      "\tcoup forcé :         4-1\n",
      "\tchaîne :             2-6 6-4 4-3 3-0 0-2 2-5 5-3 3-6 6-1 1-0 0-5 5-1 1-4\n",
      "Joueur 3 (bot)   :\n",
      "\tmain : 4-0 5-5\n",
      "\tcoup forcé :         4-0\n",
      "\tchaîne :             2-6 6-4 4-3 3-0 0-2 2-5 5-3 3-6 6-1 1-0 0-5 5-1 1-4 4-0\n",
      "Joueur 1 (bot)   :\n",
      "\tmain : 3-2 2-1 5-4 0-0\n",
      "\tà placer :           2-1\n",
      "\tchaîne :             1-2 2-6 6-4 4-3 3-0 0-2 2-5 5-3 3-6 6-1 1-0 0-5 5-1 1-4 4-0\n",
      "Joueur 2 (bot)   :\n",
      "\tmain : 3-3\n",
      "\tAucun coup possible!\n",
      "\tchaîne :             1-2 2-6 6-4 4-3 3-0 0-2 2-5 5-3 3-6 6-1 1-0 0-5 5-1 1-4 4-0\n",
      "Joueur 3 (bot)   :\n",
      "\tmain : 5-5\n",
      "\tAucun coup possible!\n",
      "\tchaîne :             1-2 2-6 6-4 4-3 3-0 0-2 2-5 5-3 3-6 6-1 1-0 0-5 5-1 1-4 4-0\n",
      "Joueur 1 (bot)   :\n",
      "\tmain : 3-2 5-4 0-0\n",
      "\tcoup forcé :         0-0\n",
      "\tchaîne :             1-2 2-6 6-4 4-3 3-0 0-2 2-5 5-3 3-6 6-1 1-0 0-5 5-1 1-4 4-0 0-0\n",
      "Joueur 2 (bot)   :\n",
      "\tmain : 2-2 6-5 3-3\n",
      "\tAucun coup possible!\n",
      "\tchaîne :             1-2 2-6 6-4 4-3 3-0 0-2 2-5 5-3 3-6 6-1 1-0 0-5 5-1 1-4 4-0 0-0\n",
      "Joueur 3 (bot)   :\n",
      "\tmain : 6-0 4-2 5-5\n",
      "\tcoup forcé :         6-0\n",
      "\tchaîne :             1-2 2-6 6-4 4-3 3-0 0-2 2-5 5-3 3-6 6-1 1-0 0-5 5-1 1-4 4-0 0-0 0-6\n",
      "Joueur 1 (bot)   :\n",
      "\tmain : 3-2 5-4\n",
      "\tAucun coup possible!\n",
      "\tchaîne :             1-2 2-6 6-4 4-3 3-0 0-2 2-5 5-3 3-6 6-1 1-0 0-5 5-1 1-4 4-0 0-0 0-6\n",
      "Joueur 2 (bot)   :\n",
      "\tmain : 1-1 6-6 2-2 6-5 3-3\n",
      "\tà placer :           6-6\n",
      "\tchaîne :             1-2 2-6 6-4 4-3 3-0 0-2 2-5 5-3 3-6 6-1 1-0 0-5 5-1 1-4 4-0 0-0 0-6 6-6\n",
      "Joueur 3 (bot)   :\n",
      "\tmain : 4-2 5-5\n",
      "\tAucun coup possible!\n",
      "\tchaîne :             1-2 2-6 6-4 4-3 3-0 0-2 2-5 5-3 3-6 6-1 1-0 0-5 5-1 1-4 4-0 0-0 0-6 6-6\n",
      "Joueur 1 (bot)   :\n",
      "\tmain : 3-1 4-4 3-2 5-4\n",
      "\tcoup forcé :         3-1\n",
      "\tchaîne :             3-1 1-2 2-6 6-4 4-3 3-0 0-2 2-5 5-3 3-6 6-1 1-0 0-5 5-1 1-4 4-0 0-0 0-6 6-6\n",
      "Joueur 2 (bot)   :\n",
      "\tmain : 1-1 2-2 6-5 3-3\n",
      "\tà placer :           6-5\n",
      "\tchaîne :             3-1 1-2 2-6 6-4 4-3 3-0 0-2 2-5 5-3 3-6 6-1 1-0 0-5 5-1 1-4 4-0 0-0 0-6 6-6 6-5\n",
      "Joueur 3 (bot)   :\n",
      "\tmain : 4-2 5-5\n",
      "\tcoup forcé :         5-5\n",
      "\tchaîne :             3-1 1-2 2-6 6-4 4-3 3-0 0-2 2-5 5-3 3-6 6-1 1-0 0-5 5-1 1-4 4-0 0-0 0-6 6-6 6-5 5-5\n",
      "Joueur 1 (bot)   :\n",
      "\tmain : 4-4 3-2 5-4\n",
      "\tà placer :           3-2\n",
      "\tchaîne :             2-3 3-1 1-2 2-6 6-4 4-3 3-0 0-2 2-5 5-3 3-6 6-1 1-0 0-5 5-1 1-4 4-0 0-0 0-6 6-6 6-5 5-5\n",
      "Joueur 2 (bot)   :\n",
      "\tmain : 1-1 2-2 3-3\n",
      "\tcoup forcé :         2-2\n",
      "\tchaîne :             2-2 2-3 3-1 1-2 2-6 6-4 4-3 3-0 0-2 2-5 5-3 3-6 6-1 1-0 0-5 5-1 1-4 4-0 0-0 0-6 6-6 6-5 5-5\n",
      "Joueur 3 (bot)   :\n",
      "\tmain : 4-2\n",
      "\tcoup forcé :         4-2\n",
      "\tchaîne :             4-2 2-2 2-3 3-1 1-2 2-6 6-4 4-3 3-0 0-2 2-5 5-3 3-6 6-1 1-0 0-5 5-1 1-4 4-0 0-0 0-6 6-6 6-5 5-5\n",
      "Joueur 3 (bot)    a gagné!\n"
     ]
    },
    {
     "data": {
      "text/plain": [
       "- : unit = ()\n"
      ]
     },
     "execution_count": 81,
     "metadata": {},
     "output_type": "execute_result"
    }
   ],
   "source": [
    "Random.init 42;\n",
    "play 6 \"BBB\""
   ]
  }
 ],
 "metadata": {
  "hide_input": false,
  "kernelspec": {
   "display_name": "OCaml default",
   "language": "OCaml",
   "name": "ocaml-jupyter"
  },
  "language_info": {
   "codemirror_mode": "text/x-ocaml",
   "file_extension": ".ml",
   "mimetype": "text/x-ocaml",
   "name": "OCaml",
   "nbconverter_exporter": null,
   "pygments_lexer": "OCaml",
   "version": "4.11.1"
  },
  "varInspector": {
   "cols": {
    "lenName": 16,
    "lenType": 16,
    "lenVar": 40
   },
   "kernels_config": {
    "python": {
     "delete_cmd_postfix": "",
     "delete_cmd_prefix": "del ",
     "library": "var_list.py",
     "varRefreshCmd": "print(var_dic_list())"
    },
    "r": {
     "delete_cmd_postfix": ") ",
     "delete_cmd_prefix": "rm(",
     "library": "var_list.r",
     "varRefreshCmd": "cat(var_dic_list()) "
    }
   },
   "types_to_exclude": [
    "module",
    "function",
    "builtin_function_or_method",
    "instance",
    "_Feature"
   ],
   "window_display": false
  }
 },
 "nbformat": 4,
 "nbformat_minor": 4
}