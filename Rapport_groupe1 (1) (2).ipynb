{
 "cells": [
  {
   "cell_type": "markdown",
   "metadata": {},
   "source": [
    "Brungard Luc  \n",
    "Celindano Adrien  \n",
    "Gao Chang  \n",
    "Thil Claire  \n",
    "Zannier Chloé  \n",
    "  \n",
    "  \n",
    "  \n",
    "<center>\n",
    "  <h1> Projet Tutoré S4 </h1>\n",
    "  <h2> Jeu de dominos en Ocaml</h2>\n",
    "</center>\n",
    "\n",
    "## Introduction du sujet\n",
    "\n",
    "  <p>&nbsp;&nbsp;&nbsp;&nbsp;&nbsp;&nbsp;Dans le cadre du projet tutoré du semestre 4, nous avons dû réaliser un jeu de domino en ocaml.</p>\n",
    "<p>&nbsp;&nbsp;&nbsp;&nbsp;&nbsp;&nbsp;Le but de ce jeu est de pouvoir jouer à une partie de domino avec des bots ou bien des humains, sans interface graphique. Afin de nous guider dans ce projet, les en-têtes des fonctions à réaliser étaient données ainsi que leur description et des exemples. Ces en-têtes de fonctions furent fournies par notre professeur référent, M.GRANGE.</p>\n",
    "\t<p>&nbsp;&nbsp;&nbsp;&nbsp;&nbsp;&nbsp;Le rendu de ce projet se trouve à cette adresse, le répertoire sera mis public après la soutenance : https://github.com/catherinegaochangdffeef/Projet-tutore--S4--DUT-.git</p>"
   ]
  },
  {
   "cell_type": "markdown",
   "metadata": {},
   "source": [
    "## 1. Répartition des tâches \n",
    "  ### 1.1 Organisation initiale\n",
    "  <p>&nbsp;&nbsp;&nbsp;&nbsp;&nbsp;&nbsp;Dès le premier jour, il y a eu une grande entraide au sein du groupe afin de réaliser des fonctions ou alors comprendre le sujet.</p>\n",
    "  <p>&nbsp;&nbsp;&nbsp;&nbsp;&nbsp;&nbsp;Cette collaboration s’est faite à travers des partages et captures d’écrans, de discussions vocales ainsi que de partage de code via l’outil Discord.</p>\n",
    "  <p>&nbsp;&nbsp;&nbsp;&nbsp;&nbsp;&nbsp;C’est ainsi que dès lundi, nous nous sommes répartis le travail de façon équitable : chaque personne devait rédiger 4 fonctions. Nous avions tous commencé à réaliser nos fonctions, quand nous nous sommes rendus compte que certaines fonctions nécessitaient d’autres pour être réalisées. Par conséquent, des petits groupes ont commencé à se former pour travailler plus rapidement sur celles-ci. Grâce à cela, nous avons déjà pu effectuer un bon nombre de fonctions, nous permettant alors de gagner un peu de temps.\n",
    "Pour le partage du code, nous avons créé un répertoire  GitHub dans lequel nous avons placé 3 fichiers : main.ml, tests.ml et README.md. Le fichier main.ml nous permettait d’écrire nos fonctions et le fichier tests.ml nous permettait de réaliser des tests afin de les valider aux vues des attentes du professeur référent.</p>\n",
    "\n",
    "  ### 1.2 Réorganisation\n",
    " &nbsp;&nbsp;&nbsp;&nbsp;&nbsp;&nbsp;Lors de notre première réunion, lundi soir, notre professeur référent nous a montré que notre répartition n’était pas très cohérente, car nous pouvions répartir les fonctions par thème, de façon tout aussi équivalente et bien plus pratique. C’est ainsi que nous avons mis en place ces différentes parties :\n",
    "    1. Gestion des coups légaux\n",
    "    2. Sélection du coup à jouer et résultat \n",
    "    3. Gestion complète d’un coup\n",
    "    4. Mise en place de la partie et \n",
    "    5. Le jeu en lui-même. \n",
    "  \n",
    "<p>&nbsp;&nbsp;&nbsp;&nbsp;&nbsp;&nbsp;Une fois ceci fait, nous avons donc continué à travailler mardi avec cette nouvelle répartition. Comme certaines fonctions étaient déjà réalisées, nous avons essayé de garder un équilibre  pour que chacun puisse programmer et apporter sa pierre à l’édifice.  </p>\n",
    "<p>&nbsp;&nbsp;&nbsp;&nbsp;&nbsp;&nbsp;La première partie étant quasiment complète, Chang l’a terminé et commencé la deuxième section. Chloé s’est occupée de la troisième partie, tandis que Luc et Adrien ont travaillé sur la quatrième partie et Claire sur le dernière. Cependant, sur les quatres fonctions de Chloé et Claire, seules deux étaient réalisables de suite, c’est pourquoi une fois celles-ci programmées, elles ont aidé Chang sur la deuxième section et ont rapidement été rejointes par le reste du groupe. </p> \n",
    "<p>&nbsp;&nbsp;&nbsp;&nbsp;&nbsp;&nbsp;Notre travail nous a permis d’aboutir au tableau suivant, qui représente la participation de chaque personne aux différentes fonctions.</p>\n",
    "\n",
    "  ### 1.3 Tableau de répartition des tâches"
   ]
  },
  {
   "cell_type": "markdown",
   "metadata": {},
   "source": [
    "|   Fonctions    |   Brungard Luc    |   Celindano Adrien    |   Gao Chang    |   Thil Claire    |   Zannier Chloé    |\n",
    "|:---:    |:---:    |:---    :|:---:|:---    :|\n",
    "|   flip    |   X    |       |       |       |       |\n",
    "|   append    |   X    |       |       |       |       |\n",
    "|  legal_adds      |       |       |   X    |       |       |\n",
    "|   possible_dominoes    |       |       |   X    |       |       |\n",
    "|   suppress    |       |       |   X    |       |       |\n",
    "|  input_move      |   X    |   X    |   X    |   X   |   X   |\n",
    "|   input_bot_move     |   X    |       |   X    |       |       |\n",
    "|   input_human_move    |    X   |       |       |   X    |   X    |\n",
    "|   take    |       |       |   X   |   X    |   X    |\n",
    "|   string_of_player    |       |       |       |   X    |   X    |\n",
    "|   string_of_dominoes    |       |       |       |   X    |   X    |\n",
    "|   get_hand_size    |       |   X    |       |       |       |\n",
    "|   char_list_of_string    |       |   X    |       |       |       |\n",
    "|   player_of_string    |       |   X    |       |       |       |\n",
    "|   make_stat_list    |   X    |   X    |       |       |       |\n",
    "|   move     |   X    |   X    |    X   |    X   |       |\n",
    "|   make_dominoes    |   X    |       |       |       |       |\n",
    "|   string_of_chain    |   X    |       |       |       |       |\n",
    "|   string_of_state    |       |       |       |   X    |   X    |\n",
    "|   list_shuffle    |       |       |       |   X    |   X    |\n",
    "|   play    |    X   |    X   |       |    X   |    X   |"
   ]
  },
  {
   "cell_type": "markdown",
   "metadata": {},
   "source": [
    "&nbsp;&nbsp;&nbsp;&nbsp;&nbsp;&nbsp;En réalité, nous avons tous aidé (ou tenté d’aider) quelqu’un sur d’autres fonctions que les siennes, mais  Luc a été présent sur presque toutes les parties, puisqu’il n’a pas hésité à nous aider tout au long de la semaine, quels que soient les problèmes rencontrés. "
   ]
  },
  {
   "cell_type": "markdown",
   "metadata": {},
   "source": [
    "## 2. Problèmes rencontrés\n",
    "### 2.1. Au niveau de l'organisation\n",
    "<p>&nbsp;&nbsp;&nbsp;&nbsp;&nbsp;&nbsp;En ce qui concerne l’organisation des fichiers sur GitHub, nous avons eu du mal à utiliser cet outil. Nous avons plus l’habitude de travailler à l’aide de Discord pour des projets comme celui-ci car il ne nécessitait de travailler que sur un seul fichier. Comme il était rare que nous terminions 2 fonctions en même temps, nous avons trouvé plus pratique et naturel de push toujours dans le même fichier main.ml, et de faire un salon Discord dédié aux erreurs.</p>\n",
    "\n",
    "### 2.2. Au niveau du projet en lui-même\n",
    "<p>&nbsp;&nbsp;&nbsp;&nbsp;&nbsp;&nbsp;Le projet aussi a été source de problèmes  : quelques fonctions, telles que `play`, `input_move`, `move`ou encore `make_state_list` par exemple, nous ont beaucoup ralentis. </p> \n",
    "<p>&nbsp;&nbsp;&nbsp;&nbsp;&nbsp;&nbsp;Il nous a fallu du temps pour correctement comprendre le sujet, les signatures des fonctions et de concevoir comment réaliser ces fonctions. Un bon exemple est `input_move`, fonction abstraite,  que nous avons eu beaucoup de mal à comprendre à cause de son entête. \n",
    "Avec beaucoup de persévérance et de dialogue entre nous, nous avons pu y parvenir.</p> <p>&nbsp;&nbsp;&nbsp;&nbsp;&nbsp;&nbsp;Une autre source de difficulté est le langage en lui-même : OCaml est un langage fonctionnel, le premier que nous avons pu découvrir et qui est bien différent des langages impératifs, que nous avons l’habitude d’utiliser. Malgré un cours complet et une documentation très bien rédigée, il nous a toutefois été compliqué de rédiger des syntaxes complexes avec notre niveau.</p>\n",
    "\n",
    "### 2.3. Autres\n",
    "<p>&nbsp;&nbsp;&nbsp;&nbsp;&nbsp;&nbsp;Le virus nous obligeant à travailler depuis chez nous, nous avons rencontré plusieurs difficultés :  \n",
    "  &nbsp;&nbsp;&nbsp;&nbsp;&nbsp;&nbsp;Tout d’abord, le distanciel peut impliquer un décalage dans le jeu des questions-réponses et cela peut impacter plus ou moins fortement le rythme de travail. Nous avons aussi dû composer avec le manque de “rapports humains”, car l’écran crée une barrière virtuelle qui impacte fortement les relations et les échanges. Travailler uniquement à distance reste très compliqué et rien ne peut remplacer une vraie rencontre en groupe avec des échanges oraux directs et immédiats. </p>\n",
    "<p>&nbsp;&nbsp;&nbsp;&nbsp;&nbsp;&nbsp;Ensuite, il y a les problèmes matériels: nous ne  disposons pas tous d’une connexion internet stable et efficace ainsi que d’un matériel toujours performant ce qui peut nous ralentir dans notre progression, voire complètement nous stopper. \n",
    "Composer avec ces contraintes a été et est très perturbant pour nous tous.</p>\n"
   ]
  },
  {
   "cell_type": "markdown",
   "metadata": {},
   "source": [
    "## Conclusion"
   ]
  },
  {
   "cell_type": "markdown",
   "metadata": {},
   "source": [
    "<p>&nbsp;&nbsp;&nbsp;&nbsp;&nbsp;&nbsp;Pour conclure ce rapport,  nous allons mettre en avant les points positifs et les difficultées abordées. Tout d’abord, les points positifs : \n",
    "Ce projet nous a été bénéfique sur plusieurs points. Le premier est la maîtrise du langage : réaliser ce jeu de dominos nous a permis de mettre en pratique et d’apprendre de façon plus efficace (car on apprend vraiment qu’avec les projets) ce langage bien particulier et nouveau. De plus, ce projet nous a obligé à travailler en équipe et à améliorer ce point, car le travail en distanciel est compliqué. Nous avons été obligés de communiquer sans cesse sur nos avancements afin d’en informer les autres et de pouvoir s’entraider au besoin.</p> \n",
    "<p>&nbsp;&nbsp;&nbsp;&nbsp;&nbsp;&nbsp;Toutefois, nous avons eu notre lot de difficultés, que ce soit dû au manque d'expérience et de pratique, de compréhension du sujet et des fonctions, ou encore le manque d’interactions physiques à cause du distanciel. Malgré tout, nous avons réussi à surmonter ces problèmes et avons appris de nos erreurs, en équipe. Chacun avait des atouts et des faiblesses, que nous avons essayé d’utiliser pour avancer au mieux et de terminer ce projet.</p>\n"
   ]
  },
  {
   "cell_type": "markdown",
   "metadata": {},
   "source": []
  }
 ],
 "metadata": {
  "kernelspec": {
   "display_name": "OCaml 4.05.0",
   "language": "OCaml",
   "name": "ocaml-jupyter"
  },
  "language_info": {
   "codemirror_mode": "text/x-ocaml",
   "file_extension": ".ml",
   "mimetype": "text/x-ocaml",
   "name": "OCaml",
   "nbconverter_exporter": null,
   "pygments_lexer": "OCaml",
   "version": "4.05.0"
  }
 },
 "nbformat": 4,
 "nbformat_minor": 2
}
